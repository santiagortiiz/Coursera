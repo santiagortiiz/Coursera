{
 "cells": [
  {
   "cell_type": "markdown",
   "metadata": {},
   "source": [
    "# Author: Santiago Ortiz Ceballos\n",
    "## Medellín, Colombia - 27/May/2020\n",
    "## University student from: University of Antioquia "
   ]
  },
  {
   "cell_type": "markdown",
   "metadata": {},
   "source": [
    "# Covid19 in Colombia - Dataset Analyze\n",
    "\n",
    "This notebook inspect the Colombian government's database about covid-19 cases. It reports the cases notified, diagnosed, recovered and dead in each city until May 27, 2020. It also includes relevant aspects such as the seriousness of each person and the origin of their infection\n",
    "\n",
    "The database can be read or downloaded from this link:\n",
    "https://www.datos.gov.co/Salud-y-Protecci-n-Social/Casos-positivos-de-COVID-19-en-Colombia/gt2j-8ykr/data"
   ]
  },
  {
   "cell_type": "markdown",
   "metadata": {},
   "source": [
    "# 1. Set up the dataset"
   ]
  },
  {
   "cell_type": "code",
   "execution_count": 1,
   "metadata": {},
   "outputs": [],
   "source": [
    "import csv"
   ]
  },
  {
   "cell_type": "code",
   "execution_count": 2,
   "metadata": {},
   "outputs": [],
   "source": [
    "file = open('Casos_positivos_de_COVID-19_en_Colombia.csv', 'rt',encoding = 'utf-8')\n",
    "content = csv.reader(file, delimiter = ',')"
   ]
  },
  {
   "cell_type": "code",
   "execution_count": 3,
   "metadata": {},
   "outputs": [],
   "source": [
    "header = file.readline()"
   ]
  },
  {
   "cell_type": "code",
   "execution_count": 4,
   "metadata": {},
   "outputs": [
    {
     "data": {
      "text/plain": [
       "'ID de caso,Fecha de notificación,Codigo DIVIPOLA,Ciudad de ubicación,Departamento o Distrito ,atención,Edad,Sexo,Tipo,Estado,País de procedencia,FIS,Fecha de muerte,Fecha diagnostico,Fecha recuperado,fecha reporte web\\n'"
      ]
     },
     "execution_count": 4,
     "metadata": {},
     "output_type": "execute_result"
    }
   ],
   "source": [
    "header"
   ]
  },
  {
   "cell_type": "markdown",
   "metadata": {},
   "source": [
    "## Clean of the header"
   ]
  },
  {
   "cell_type": "code",
   "execution_count": 5,
   "metadata": {},
   "outputs": [
    {
     "data": {
      "text/plain": [
       "['ID de caso',\n",
       " 'Fecha de notificación',\n",
       " 'Codigo DIVIPOLA',\n",
       " 'Ciudad de ubicación',\n",
       " 'Departamento o Distrito ',\n",
       " 'atención',\n",
       " 'Edad',\n",
       " 'Sexo',\n",
       " 'Tipo',\n",
       " 'Estado',\n",
       " 'País de procedencia',\n",
       " 'FIS',\n",
       " 'Fecha de muerte',\n",
       " 'Fecha diagnostico',\n",
       " 'Fecha recuperado',\n",
       " 'fecha reporte web']"
      ]
     },
     "execution_count": 5,
     "metadata": {},
     "output_type": "execute_result"
    }
   ],
   "source": [
    "header = header.strip().split(',')\n",
    "header"
   ]
  },
  {
   "cell_type": "markdown",
   "metadata": {},
   "source": [
    "## Build the dataset with the respect casting of each interest value"
   ]
  },
  {
   "cell_type": "code",
   "execution_count": 6,
   "metadata": {},
   "outputs": [],
   "source": [
    "import time"
   ]
  },
  {
   "cell_type": "code",
   "execution_count": 7,
   "metadata": {},
   "outputs": [],
   "source": [
    "dataset = []\n",
    "for row in content:\n",
    "    # Match each value with it's category\n",
    "    \n",
    "    # Casting for data\n",
    "    dictionary = dict(zip(header, row)) \n",
    "    dictionary['Edad'] = int(dictionary['Edad'])\n",
    "    dictionary['ID de caso'] = int(dictionary['ID de caso'])\n",
    "    dictionary['Edad'] = int(dictionary['Edad'])\n",
    "    dictionary['Estado'] = dictionary['Estado'].lower()\n",
    "    \n",
    "    # Casting for time\n",
    "    if (len(dictionary['Fecha de notificación']) > 6):\n",
    "        dictionary['Fecha de notificación'] = time.strptime(dictionary['Fecha de notificación'][:10], \"%Y-%m-%d\")\n",
    "    if (len(dictionary['Fecha diagnostico']) > 6):\n",
    "        dictionary['Fecha diagnostico'] = time.strptime(dictionary['Fecha diagnostico'][:10], \"%Y-%m-%d\")\n",
    "    if (len(dictionary['Fecha de muerte']) > 6):\n",
    "        dictionary['Fecha de muerte'] = time.strptime(dictionary['Fecha de muerte'][:10], \"%Y-%m-%d\")\n",
    "    if (len(dictionary['Fecha recuperado']) > 6):\n",
    "        dictionary['Fecha recuperado'] = time.strptime(dictionary['Fecha recuperado'][:10], \"%Y-%m-%d\")\n",
    "    \n",
    "    dataset.append(dictionary)"
   ]
  },
  {
   "cell_type": "code",
   "execution_count": 8,
   "metadata": {},
   "outputs": [
    {
     "data": {
      "text/plain": [
       "23003"
      ]
     },
     "execution_count": 8,
     "metadata": {},
     "output_type": "execute_result"
    }
   ],
   "source": [
    "len(dataset)"
   ]
  },
  {
   "cell_type": "markdown",
   "metadata": {},
   "source": [
    "## A glance at the dataset. This is what each line looks like:"
   ]
  },
  {
   "cell_type": "code",
   "execution_count": 9,
   "metadata": {},
   "outputs": [
    {
     "data": {
      "text/plain": [
       "{'ID de caso': 11,\n",
       " 'Fecha de notificación': time.struct_time(tm_year=2020, tm_mon=3, tm_mday=11, tm_hour=0, tm_min=0, tm_sec=0, tm_wday=2, tm_yday=71, tm_isdst=-1),\n",
       " 'Codigo DIVIPOLA': '11001',\n",
       " 'Ciudad de ubicación': 'Bogotá D.C.',\n",
       " 'Departamento o Distrito ': 'Bogotá D.C.',\n",
       " 'atención': 'Recuperado',\n",
       " 'Edad': 42,\n",
       " 'Sexo': 'F',\n",
       " 'Tipo': 'Importado',\n",
       " 'Estado': 'leve',\n",
       " 'País de procedencia': 'España',\n",
       " 'FIS': '2020-03-06T00:00:00.000',\n",
       " 'Fecha de muerte': '-   -',\n",
       " 'Fecha diagnostico': time.struct_time(tm_year=2020, tm_mon=3, tm_mday=12, tm_hour=0, tm_min=0, tm_sec=0, tm_wday=3, tm_yday=72, tm_isdst=-1),\n",
       " 'Fecha recuperado': time.struct_time(tm_year=2020, tm_mon=3, tm_mday=31, tm_hour=0, tm_min=0, tm_sec=0, tm_wday=1, tm_yday=91, tm_isdst=-1),\n",
       " 'fecha reporte web': '2020-03-12T00:00:00.000'}"
      ]
     },
     "execution_count": 9,
     "metadata": {},
     "output_type": "execute_result"
    }
   ],
   "source": [
    "dataset[10]"
   ]
  },
  {
   "cell_type": "markdown",
   "metadata": {},
   "source": [
    "# 2. Simple Statistics"
   ]
  },
  {
   "cell_type": "code",
   "execution_count": 10,
   "metadata": {},
   "outputs": [],
   "source": [
    "from collections import defaultdict"
   ]
  },
  {
   "cell_type": "code",
   "execution_count": 11,
   "metadata": {},
   "outputs": [],
   "source": [
    "location = defaultdict(int)\n",
    "ages = defaultdict(int)\n",
    "sex = defaultdict(int)\n",
    "kind = defaultdict(int)\n",
    "state = defaultdict(int)\n",
    "origin = defaultdict(int)\n",
    "\n",
    "for data in dataset:\n",
    "    location[data['Ciudad de ubicación']] += 1\n",
    "    ages[data['Edad']] += 1\n",
    "    sex[data['Sexo']] += 1\n",
    "    kind[data['Tipo']] += 1\n",
    "    state[data['Estado']] += 1\n",
    "    origin[data['País de procedencia']] += 1\n",
    "    "
   ]
  },
  {
   "cell_type": "markdown",
   "metadata": {},
   "source": [
    "## Top 10 Cases by city"
   ]
  },
  {
   "cell_type": "code",
   "execution_count": 12,
   "metadata": {},
   "outputs": [
    {
     "data": {
      "text/plain": [
       "[('Bogotá D.C.', 7743),\n",
       " ('Cartagena de Indias', 2220),\n",
       " ('Cali', 2089),\n",
       " ('Barranquilla', 1576),\n",
       " ('Leticia', 1494),\n",
       " ('Villavicencio', 935),\n",
       " ('Soledad', 892),\n",
       " ('San Andrés de Tumaco', 514),\n",
       " ('Medellín', 470),\n",
       " ('Santa Marta', 291)]"
      ]
     },
     "execution_count": 12,
     "metadata": {},
     "output_type": "execute_result"
    }
   ],
   "source": [
    "sorted(location.items(), key=lambda x: x[1], reverse=True)[:10] "
   ]
  },
  {
   "cell_type": "markdown",
   "metadata": {},
   "source": [
    "## Top 10 affected ages"
   ]
  },
  {
   "cell_type": "code",
   "execution_count": 13,
   "metadata": {},
   "outputs": [
    {
     "data": {
      "text/plain": [
       "[(29, 600),\n",
       " (30, 587),\n",
       " (27, 585),\n",
       " (26, 576),\n",
       " (25, 565),\n",
       " (28, 565),\n",
       " (31, 561),\n",
       " (32, 542),\n",
       " (24, 535),\n",
       " (34, 506)]"
      ]
     },
     "execution_count": 13,
     "metadata": {},
     "output_type": "execute_result"
    }
   ],
   "source": [
    "sorted(ages.items(), key=lambda x: x[1], reverse=True)[:10]"
   ]
  },
  {
   "cell_type": "markdown",
   "metadata": {},
   "source": [
    "## Number of men and women affected"
   ]
  },
  {
   "cell_type": "code",
   "execution_count": 14,
   "metadata": {},
   "outputs": [
    {
     "data": {
      "text/plain": [
       "[('M', 12925), ('F', 10078)]"
      ]
     },
     "execution_count": 14,
     "metadata": {},
     "output_type": "execute_result"
    }
   ],
   "source": [
    "sorted(sex.items(), key=lambda x: x[1], reverse=True)"
   ]
  },
  {
   "cell_type": "markdown",
   "metadata": {},
   "source": [
    "## Number of each type of case"
   ]
  },
  {
   "cell_type": "code",
   "execution_count": 15,
   "metadata": {},
   "outputs": [
    {
     "data": {
      "text/plain": [
       "[('En estudio', 15827),\n",
       " ('Relacionado', 6324),\n",
       " ('Importado', 850),\n",
       " ('Desconocido', 2)]"
      ]
     },
     "execution_count": 15,
     "metadata": {},
     "output_type": "execute_result"
    }
   ],
   "source": [
    "sorted(kind.items(), key=lambda x: x[1], reverse=True)[:10] # Top 10"
   ]
  },
  {
   "cell_type": "markdown",
   "metadata": {},
   "source": [
    "# State of people"
   ]
  },
  {
   "cell_type": "code",
   "execution_count": 16,
   "metadata": {},
   "outputs": [
    {
     "data": {
      "text/plain": [
       "[('leve', 18005),\n",
       " ('asintomático', 2785),\n",
       " ('moderado', 1155),\n",
       " ('fallecido', 776),\n",
       " ('grave', 248),\n",
       " ('', 34)]"
      ]
     },
     "execution_count": 16,
     "metadata": {},
     "output_type": "execute_result"
    }
   ],
   "source": [
    "sorted(state.items(), key=lambda x: x[1], reverse=True)[:10] # Top 10"
   ]
  },
  {
   "cell_type": "markdown",
   "metadata": {},
   "source": [
    "## Top 10 Origin Country"
   ]
  },
  {
   "cell_type": "code",
   "execution_count": 17,
   "metadata": {},
   "outputs": [
    {
     "data": {
      "text/plain": [
       "[('Colombia', 22143),\n",
       " ('España', 261),\n",
       " ('Estados Unidos de América', 216),\n",
       " ('México', 51),\n",
       " ('Ecuador', 50),\n",
       " ('Brasil', 44),\n",
       " ('Panamá', 34),\n",
       " ('Turquía', 28),\n",
       " ('Francia', 18),\n",
       " ('Jamaica', 16)]"
      ]
     },
     "execution_count": 17,
     "metadata": {},
     "output_type": "execute_result"
    }
   ],
   "source": [
    "sorted(origin.items(), key=lambda x: x[1], reverse=True)[:10] # Top 10"
   ]
  },
  {
   "cell_type": "markdown",
   "metadata": {},
   "source": [
    "## Average days of diagnose, recover and die, from notification"
   ]
  },
  {
   "cell_type": "code",
   "execution_count": 18,
   "metadata": {},
   "outputs": [
    {
     "name": "stdout",
     "output_type": "stream",
     "text": [
      "Average number of days to diagnose since notification:\n",
      "6.531129024912329\n",
      "\n",
      "Average number of days to recover from the notification:\n",
      "16.443233424159853\n",
      "\n",
      "Average number of days to die since notification\n",
      "9.587976539589443\n"
     ]
    }
   ],
   "source": [
    "days_to_diagnose = []\n",
    "days_to_die = []\n",
    "days_to_recovery = []\n",
    "for data in dataset:\n",
    "    if (isinstance(data['Fecha de notificación'], tuple)) and (isinstance(data['Fecha de muerte'], tuple)):\n",
    "        diff = time.mktime(data['Fecha de muerte']) - time.mktime(data['Fecha de notificación'])\n",
    "        if (diff > 0):\n",
    "            diff = time.gmtime(diff).tm_mday\n",
    "            days_to_die.append(diff)\n",
    "    if (isinstance(data['Fecha de notificación'], tuple)) and (isinstance(data['Fecha recuperado'], tuple)):\n",
    "        diff = time.mktime(data['Fecha recuperado']) - time.mktime(data['Fecha de notificación'])\n",
    "        if (diff > 0):\n",
    "            diff = time.gmtime(diff).tm_mday\n",
    "            days_to_recovery.append(diff)\n",
    "    if (isinstance(data['Fecha de notificación'], tuple)) and (isinstance(data['Fecha diagnostico'], tuple)):\n",
    "        diff = time.mktime(data['Fecha diagnostico']) - time.mktime(data['Fecha de notificación'])\n",
    "        if (diff > 0):\n",
    "            diff = time.gmtime(diff).tm_mday\n",
    "            days_to_diagnose.append(diff)\n",
    "            \n",
    "print(\"Average number of days to diagnose since notification:\")\n",
    "print(sum(days_to_diagnose)/len(days_to_diagnose))\n",
    "print(\"\\nAverage number of days to recover from the notification:\")\n",
    "print(sum(days_to_recovery)/len(days_to_recovery))\n",
    "print(\"\\nAverage number of days to die since notification\")\n",
    "print(sum(days_to_die)/len(days_to_die))"
   ]
  },
  {
   "cell_type": "markdown",
   "metadata": {},
   "source": [
    "# 3. Data Visualization"
   ]
  },
  {
   "cell_type": "code",
   "execution_count": 19,
   "metadata": {},
   "outputs": [],
   "source": [
    "import matplotlib.pyplot as plt"
   ]
  },
  {
   "cell_type": "markdown",
   "metadata": {},
   "source": [
    "## 1. Line Plot"
   ]
  },
  {
   "cell_type": "markdown",
   "metadata": {},
   "source": [
    "Sorted the dataset by dates"
   ]
  },
  {
   "cell_type": "code",
   "execution_count": 20,
   "metadata": {},
   "outputs": [],
   "source": [
    "sortedByTimeDataset = dataset.copy()\n",
    "\n",
    "for row in sortedByTimeDataset:\n",
    "    if isinstance(row['Fecha de notificación'], tuple):\n",
    "        row['Fecha de notificación'] = time.mktime(row['Fecha de notificación'])\n",
    "        \n",
    "sortedByTimeDataset = sorted(sortedByTimeDataset, reverse=True, key=lambda x: x['Fecha de notificación'])"
   ]
  },
  {
   "cell_type": "markdown",
   "metadata": {},
   "source": [
    "### This Function allows to count the number of cases notified each day"
   ]
  },
  {
   "cell_type": "code",
   "execution_count": 21,
   "metadata": {},
   "outputs": [],
   "source": [
    "def evolution(dataset,city):\n",
    "    city_infection = defaultdict(int)\n",
    "    for row in dataset:\n",
    "        if row['Ciudad de ubicación'] == str(city):\n",
    "            city_infection[row['Fecha de notificación']] += 1\n",
    "                \n",
    "    return city_infection"
   ]
  },
  {
   "cell_type": "code",
   "execution_count": 22,
   "metadata": {},
   "outputs": [],
   "source": [
    "infection_Bogota = evolution(sortedByTimeDataset,'Bogotá D.C.')\n",
    "infection_Medellin = evolution(sortedByTimeDataset,'Medellín')\n",
    "infection_Cali = evolution(sortedByTimeDataset,'Cali')\n",
    "infection_Santa_Marta = evolution(sortedByTimeDataset,'Santa Marta')\n",
    "infection_Villavicencio = evolution(sortedByTimeDataset,'Villavicencio')\n",
    "infection_Barranquilla = evolution(sortedByTimeDataset,'Barranquilla')\n",
    "infection_Leticia = evolution(sortedByTimeDataset,'Leticia')\n"
   ]
  },
  {
   "cell_type": "code",
   "execution_count": 23,
   "metadata": {},
   "outputs": [
    {
     "data": {
      "text/plain": [
       "<matplotlib.legend.Legend at 0x194e8dadac8>"
      ]
     },
     "execution_count": 23,
     "metadata": {},
     "output_type": "execute_result"
    },
    {
     "data": {
      "image/png": "[encoded data removed]",
      "text/plain": [
       "<Figure size 432x288 with 1 Axes>"
      ]
     },
     "metadata": {
      "needs_background": "light"
     },
     "output_type": "display_data"
    }
   ],
   "source": [
    "plt.title('day-to-day infections in Top citys from Colombia')\n",
    "plt.xlabel('Date in UNIX format')\n",
    "plt.ylabel('Number of notified cases')\n",
    "\n",
    "plt.plot(list(infection_Bogota.keys()),\n",
    "         list(infection_Bogota.values()))\n",
    "\n",
    "plt.plot(list(infection_Medellin.keys()),\n",
    "         list(infection_Medellin.values()))\n",
    "\n",
    "plt.plot(list(infection_Cali.keys()),\n",
    "         list(infection_Cali.values()))\n",
    "\n",
    "plt.plot(list(infection_Santa_Marta.keys()),\n",
    "         list(infection_Santa_Marta.values()))\n",
    "\n",
    "plt.plot(list(infection_Villavicencio.keys()),\n",
    "         list(infection_Villavicencio.values()))\n",
    "\n",
    "plt.plot(list(infection_Barranquilla.keys()),\n",
    "         list(infection_Barranquilla.values()))\n",
    "\n",
    "plt.plot(list(infection_Leticia.keys()),\n",
    "         list(infection_Leticia.values()))\n",
    "\n",
    "plt.legend(['Bogotá','Medellín','Cali','Santa Marta','Villavicencio','Barranquilla','Leticia'])"
   ]
  },
  {
   "cell_type": "markdown",
   "metadata": {},
   "source": [
    "## 2. Histogram"
   ]
  },
  {
   "cell_type": "markdown",
   "metadata": {},
   "source": [
    "### This function allows to calculate how the infection is distributed by ages"
   ]
  },
  {
   "cell_type": "code",
   "execution_count": 24,
   "metadata": {},
   "outputs": [],
   "source": [
    "def distribution(dataset,city):\n",
    "    age_distribution = defaultdict(int)\n",
    "    for row in dataset:\n",
    "        if row['Ciudad de ubicación'] == str(city):\n",
    "            age_distribution[row['Edad']] += 1\n",
    "                \n",
    "    return age_distribution"
   ]
  },
  {
   "cell_type": "code",
   "execution_count": 25,
   "metadata": {},
   "outputs": [],
   "source": [
    "age_medellin = distribution(dataset,'Medellín')\n",
    "age_bogota = distribution(dataset,'Bogotá D.C.')\n",
    "age_cali = distribution(dataset,'Cali')"
   ]
  },
  {
   "cell_type": "code",
   "execution_count": 26,
   "metadata": {},
   "outputs": [
    {
     "name": "stdout",
     "output_type": "stream",
     "text": [
      "Total Infected in Medellín:\n",
      "470\n"
     ]
    },
    {
     "data": {
      "image/png": "[encoded data removed]",
      "text/plain": [
       "<Figure size 432x288 with 4 Axes>"
      ]
     },
     "metadata": {
      "needs_background": "light"
     },
     "output_type": "display_data"
    }
   ],
   "source": [
    "plt.subplot(2,2,1)\n",
    "plt.bar(age_medellin.keys(),age_medellin.values())\n",
    "plt.xlim(0,25)\n",
    "plt.grid()\n",
    "plt.ylabel('Infected People')\n",
    "\n",
    "plt.subplot(2,2,2)\n",
    "plt.bar(age_medellin.keys(),age_medellin.values())\n",
    "plt.xlim(25,50)\n",
    "plt.grid()\n",
    "\n",
    "plt.subplot(2,2,3)\n",
    "plt.bar(age_medellin.keys(),age_medellin.values())\n",
    "plt.xlim(50,75)\n",
    "plt.grid()\n",
    "plt.xlabel('Ages')\n",
    "plt.ylabel('Infected People')\n",
    "\n",
    "plt.subplot(2,2,4)\n",
    "plt.bar(age_medellin.keys(),age_medellin.values())\n",
    "plt.xlim(75,100)\n",
    "plt.grid()\n",
    "plt.xlabel('Ages')\n",
    "\n",
    "print(\"Total Infected in Medellín:\")\n",
    "print(sum(age_medellin.values()))"
   ]
  },
  {
   "cell_type": "code",
   "execution_count": 27,
   "metadata": {},
   "outputs": [
    {
     "name": "stdout",
     "output_type": "stream",
     "text": [
      "Total Infected in Bogotá:\n",
      "7743\n"
     ]
    },
    {
     "data": {
      "image/png": "[encoded data removed]",
      "text/plain": [
       "<Figure size 432x288 with 4 Axes>"
      ]
     },
     "metadata": {
      "needs_background": "light"
     },
     "output_type": "display_data"
    }
   ],
   "source": [
    "plt.subplot(2,2,1)\n",
    "plt.bar(age_bogota.keys(),age_bogota.values())\n",
    "plt.xlim(0,25)\n",
    "plt.grid()\n",
    "plt.ylabel('Infected People')\n",
    "\n",
    "plt.subplot(2,2,2)\n",
    "plt.bar(age_bogota.keys(),age_bogota.values())\n",
    "plt.xlim(25,50)\n",
    "plt.grid()\n",
    "\n",
    "plt.subplot(2,2,3)\n",
    "plt.bar(age_bogota.keys(),age_bogota.values())\n",
    "plt.xlim(50,75)\n",
    "plt.grid()\n",
    "plt.xlabel('Ages')\n",
    "plt.ylabel('Infected People')\n",
    "\n",
    "plt.subplot(2,2,4)\n",
    "plt.bar(age_bogota.keys(),age_bogota.values())\n",
    "plt.xlim(75,100)\n",
    "plt.grid()\n",
    "plt.xlabel('Ages')\n",
    "\n",
    "print(\"Total Infected in Bogotá:\")\n",
    "print(sum(age_bogota.values()))"
   ]
  },
  {
   "cell_type": "code",
   "execution_count": 28,
   "metadata": {},
   "outputs": [
    {
     "name": "stdout",
     "output_type": "stream",
     "text": [
      "Total Infected in Cali:\n",
      "2089\n"
     ]
    },
    {
     "data": {
      "image/png": "[encoded data removed]",
      "text/plain": [
       "<Figure size 432x288 with 4 Axes>"
      ]
     },
     "metadata": {
      "needs_background": "light"
     },
     "output_type": "display_data"
    }
   ],
   "source": [
    "plt.subplot(2,2,1)\n",
    "plt.bar(age_cali.keys(),age_cali.values())\n",
    "plt.xlim(0,25)\n",
    "plt.grid()\n",
    "plt.ylabel('Infected People')\n",
    "\n",
    "plt.subplot(2,2,2)\n",
    "plt.bar(age_cali.keys(),age_cali.values())\n",
    "plt.xlim(25,50)\n",
    "plt.grid()\n",
    "\n",
    "plt.subplot(2,2,3)\n",
    "plt.bar(age_cali.keys(),age_cali.values())\n",
    "plt.xlim(50,75)\n",
    "plt.grid()\n",
    "plt.xlabel('Ages')\n",
    "plt.ylabel('Infected People')\n",
    "\n",
    "plt.subplot(2,2,4)\n",
    "plt.bar(age_cali.keys(),age_cali.values())\n",
    "plt.xlim(75,100)\n",
    "plt.grid()\n",
    "plt.xlabel('Ages')\n",
    "\n",
    "print(\"Total Infected in Cali:\")\n",
    "print(sum(age_cali.values()))"
   ]
  },
  {
   "cell_type": "markdown",
   "metadata": {},
   "source": [
    "## 3. Scatter"
   ]
  },
  {
   "cell_type": "markdown",
   "metadata": {},
   "source": [
    "## Is there a relationship between people infected per day and age?"
   ]
  },
  {
   "cell_type": "code",
   "execution_count": 29,
   "metadata": {},
   "outputs": [
    {
     "data": {
      "text/plain": [
       "<matplotlib.legend.Legend at 0x194ef072808>"
      ]
     },
     "execution_count": 29,
     "metadata": {},
     "output_type": "execute_result"
    },
    {
     "data": {
      "image/png": "[encoded data removed]",
      "text/plain": [
       "<Figure size 432x288 with 1 Axes>"
      ]
     },
     "metadata": {
      "needs_background": "light"
     },
     "output_type": "display_data"
    }
   ],
   "source": [
    "plt.axes([0.025, 0.025, 0.95, 0.95])\n",
    "plt.scatter(age_bogota.keys(),age_bogota.values(), s=75, alpha=.5)\n",
    "\n",
    "plt.scatter(age_medellin.keys(),age_medellin.values(), s=75, alpha=.5)\n",
    "\n",
    "plt.scatter(age_cali.keys(),age_cali.values(), s=75, alpha=.5)\n",
    "\n",
    "plt.xlabel('Age')\n",
    "plt.ylabel('Infected People')\n",
    "plt.grid(True)\n",
    "plt.title('Correlation between Age and Infections')\n",
    "plt.legend(['Bogotá','Medellín','Cali'])"
   ]
  },
  {
   "cell_type": "markdown",
   "metadata": {},
   "source": [
    "- Direction: Positive\n",
    "- Form: Non-linear\n",
    "- Strength: Strong\n",
    "- Outliers: Very Few\n",
    "\n",
    "From the graphs we conclude that the infected people per day have a relation with the age of the people. Most of the infected per day people are around 20 and 40 years old."
   ]
  },
  {
   "cell_type": "markdown",
   "metadata": {},
   "source": [
    "## 4. Bar Plots"
   ]
  },
  {
   "cell_type": "markdown",
   "metadata": {},
   "source": [
    "### Note: I don't Understand what does this graph means, and it's possible this is a wrong result"
   ]
  },
  {
   "cell_type": "code",
   "execution_count": 30,
   "metadata": {},
   "outputs": [
    {
     "data": {
      "text/plain": [
       "<matplotlib.legend.Legend at 0x194ed362948>"
      ]
     },
     "execution_count": 30,
     "metadata": {},
     "output_type": "execute_result"
    },
    {
     "data": {
      "image/png": "[encoded data removed]",
      "text/plain": [
       "<Figure size 432x288 with 1 Axes>"
      ]
     },
     "metadata": {
      "needs_background": "light"
     },
     "output_type": "display_data"
    }
   ],
   "source": [
    "# Example Stacked Bar Chart - Comparisons Between Sexes\n",
    "# La suma de todos los pesos a partir de la cual estan los pesos\n",
    "M_recovery = sum([d['Edad'] for d in dataset if d['Sexo'] is 'M'])\n",
    "F_recovery = sum([d['Edad'] for d in dataset if d['Sexo'] is 'F'])\n",
    "index = [1]\n",
    "\n",
    "p1 = plt.bar(index, M_recovery, color='lightblue')\n",
    "p2 = plt.bar(index, F_recovery, bottom=M_recovery, color='pink')\n",
    "plt.gca().set(title='Infected People by Sex', ylabel='Number Infected');\n",
    "plt.xticks([])\n",
    "\n",
    "plt.legend((p1[0], p2[0]), ('Male', 'Female'))"
   ]
  },
  {
   "cell_type": "markdown",
   "metadata": {},
   "source": [
    "## 5. Boxplot\n",
    "\n",
    "### How long it takes for people with symptoms to:"
   ]
  },
  {
   "cell_type": "code",
   "execution_count": 31,
   "metadata": {},
   "outputs": [
    {
     "data": {
      "text/plain": [
       "Text(0.5, 1.0, 'Days to Recovery')"
      ]
     },
     "execution_count": 31,
     "metadata": {},
     "output_type": "execute_result"
    },
    {
     "data": {
      "image/png": "[encoded data removed]",
      "text/plain": [
       "<Figure size 432x288 with 3 Axes>"
      ]
     },
     "metadata": {
      "needs_background": "light"
     },
     "output_type": "display_data"
    }
   ],
   "source": [
    "plt.subplot(1,3,1)\n",
    "plt.boxplot(days_to_diagnose)\n",
    "plt.title('Days to Diagnose')\n",
    "plt.ylabel('Days')\n",
    "plt.subplot(1,3,2)\n",
    "plt.boxplot(days_to_die)\n",
    "plt.title('Days to Die')\n",
    "plt.subplot(1,3,3)\n",
    "plt.boxplot(days_to_recovery)\n",
    "plt.title('Days to Recovery')"
   ]
  }
 ],
 "metadata": {
  "kernelspec": {
   "display_name": "Python 3",
   "language": "python",
   "name": "python3"
  },
  "language_info": {
   "codemirror_mode": {
    "name": "ipython",
    "version": 3
   },
   "file_extension": ".py",
   "mimetype": "text/x-python",
   "name": "python",
   "nbconvert_exporter": "python",
   "pygments_lexer": "ipython3",
   "version": "3.7.6"
  }
 },
 "nbformat": 4,
 "nbformat_minor": 4
}
