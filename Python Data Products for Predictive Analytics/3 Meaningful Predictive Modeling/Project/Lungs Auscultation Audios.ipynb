{
 "cells": [
  {
   "cell_type": "markdown",
   "metadata": {},
   "source": [
    "# Lungs Auscultation Audios "
   ]
  },
  {
   "cell_type": "markdown",
   "metadata": {},
   "source": [
    "The auscultation is a technique to explore internal organs of the human body through the stetoscope in order to identify sounds whose are involved in some desease, like crackles and wheezes. These sounds can be identified in a time-frequency analysis, in which several statistic indices can be calculated (Variance, Range, Moving Average, Spectrum average) to build models that help to automatize the diagnosis of Crackles and Wheezes, or even some desease.\n",
    "\n",
    "This project develops models of **regression and classification** with some of the indices described above using the data set I created in one of my university projects, in which a database of auscultation audios is analyzed, extracting each respiratory cycle from several auscultations performed on 126 patients.\n",
    "\n",
    "The complete project can be found clicking [here](https://github.com/santiagortiiz/Lungs-Auscultation-Signals.git).\n",
    "\n",
    "And The original audios Database can be found clicking [here](https://www.kaggle.com/vbookshelf/respiratory-sound-database)"
   ]
  },
  {
   "cell_type": "markdown",
   "metadata": {},
   "source": [
    "## Let's start by importing principle libraries"
   ]
  },
  {
   "cell_type": "code",
   "execution_count": 1,
   "metadata": {},
   "outputs": [],
   "source": [
    "import random\n",
    "import numpy as np\n",
    "import pandas as pd\n",
    "import seaborn as sns\n",
    "import matplotlib.pyplot as plt"
   ]
  },
  {
   "cell_type": "markdown",
   "metadata": {},
   "source": [
    "## Load the dataset as a DataFrame"
   ]
  },
  {
   "cell_type": "markdown",
   "metadata": {},
   "source": [
    "The dataset describes each of the 126 patients in two ways, the first of which details their basic information such as age, sex, weight, BMI, and their identification. And the second describes each respiratory cycle including start time, end time, `pathologies detected`, status and `statistical indices`.\n",
    "\n",
    "Note: The status describes the patient as follows:                                       \n",
    "**State**                                                                              \n",
    "0 -> Healthy (Respiratory cycle without Crackles or Wheezes)                                       \n",
    "1 -> Respiratory cycle with Crackles                                       \n",
    "2 -> Respiratory cycle with Wheezes                                       \n",
    "3 -> Respiratory cycle with Both (Crackles and Wheezes)                                       "
   ]
  },
  {
   "cell_type": "code",
   "execution_count": 274,
   "metadata": {},
   "outputs": [
    {
     "data": {
      "text/html": [
       "<div>\n",
       "<style scoped>\n",
       "    .dataframe tbody tr th:only-of-type {\n",
       "        vertical-align: middle;\n",
       "    }\n",
       "\n",
       "    .dataframe tbody tr th {\n",
       "        vertical-align: top;\n",
       "    }\n",
       "\n",
       "    .dataframe thead th {\n",
       "        text-align: right;\n",
       "    }\n",
       "</style>\n",
       "<table border=\"1\" class=\"dataframe\">\n",
       "  <thead>\n",
       "    <tr style=\"text-align: right;\">\n",
       "      <th></th>\n",
       "      <th>patient_ID</th>\n",
       "      <th>Diagnosis</th>\n",
       "      <th>age</th>\n",
       "      <th>sex</th>\n",
       "      <th>IMC</th>\n",
       "      <th>weight</th>\n",
       "      <th>height</th>\n",
       "      <th>adq_format</th>\n",
       "      <th>start</th>\n",
       "      <th>end</th>\n",
       "      <th>crackles</th>\n",
       "      <th>wheezes</th>\n",
       "      <th>state</th>\n",
       "      <th>Var</th>\n",
       "      <th>Range</th>\n",
       "      <th>Coarse_Av</th>\n",
       "      <th>Fine_Av</th>\n",
       "      <th>Spectrum Av</th>\n",
       "    </tr>\n",
       "  </thead>\n",
       "  <tbody>\n",
       "    <tr>\n",
       "      <th>0</th>\n",
       "      <td>101</td>\n",
       "      <td>URTI</td>\n",
       "      <td>3.0</td>\n",
       "      <td>F</td>\n",
       "      <td>NaN</td>\n",
       "      <td>19.0</td>\n",
       "      <td>99.0</td>\n",
       "      <td>1b1_Al_sc_Meditron</td>\n",
       "      <td>0.036</td>\n",
       "      <td>0.579</td>\n",
       "      <td>0</td>\n",
       "      <td>0</td>\n",
       "      <td>0</td>\n",
       "      <td>0.000048</td>\n",
       "      <td>0.113594</td>\n",
       "      <td>0.000446</td>\n",
       "      <td>0.000599</td>\n",
       "      <td>2.537207e-08</td>\n",
       "    </tr>\n",
       "    <tr>\n",
       "      <th>1</th>\n",
       "      <td>101</td>\n",
       "      <td>URTI</td>\n",
       "      <td>3.0</td>\n",
       "      <td>F</td>\n",
       "      <td>NaN</td>\n",
       "      <td>19.0</td>\n",
       "      <td>99.0</td>\n",
       "      <td>1b1_Al_sc_Meditron</td>\n",
       "      <td>0.579</td>\n",
       "      <td>2.450</td>\n",
       "      <td>0</td>\n",
       "      <td>0</td>\n",
       "      <td>0</td>\n",
       "      <td>0.000066</td>\n",
       "      <td>0.159031</td>\n",
       "      <td>0.012435</td>\n",
       "      <td>-0.001276</td>\n",
       "      <td>3.532798e-08</td>\n",
       "    </tr>\n",
       "    <tr>\n",
       "      <th>2</th>\n",
       "      <td>101</td>\n",
       "      <td>URTI</td>\n",
       "      <td>3.0</td>\n",
       "      <td>F</td>\n",
       "      <td>NaN</td>\n",
       "      <td>19.0</td>\n",
       "      <td>99.0</td>\n",
       "      <td>1b1_Al_sc_Meditron</td>\n",
       "      <td>2.450</td>\n",
       "      <td>3.893</td>\n",
       "      <td>0</td>\n",
       "      <td>0</td>\n",
       "      <td>0</td>\n",
       "      <td>0.000044</td>\n",
       "      <td>0.115345</td>\n",
       "      <td>-0.101963</td>\n",
       "      <td>-0.000701</td>\n",
       "      <td>2.213387e-08</td>\n",
       "    </tr>\n",
       "    <tr>\n",
       "      <th>3</th>\n",
       "      <td>101</td>\n",
       "      <td>URTI</td>\n",
       "      <td>3.0</td>\n",
       "      <td>F</td>\n",
       "      <td>NaN</td>\n",
       "      <td>19.0</td>\n",
       "      <td>99.0</td>\n",
       "      <td>1b1_Al_sc_Meditron</td>\n",
       "      <td>3.893</td>\n",
       "      <td>5.793</td>\n",
       "      <td>0</td>\n",
       "      <td>0</td>\n",
       "      <td>0</td>\n",
       "      <td>0.000074</td>\n",
       "      <td>0.187316</td>\n",
       "      <td>-0.113660</td>\n",
       "      <td>-0.000223</td>\n",
       "      <td>3.485673e-08</td>\n",
       "    </tr>\n",
       "    <tr>\n",
       "      <th>4</th>\n",
       "      <td>101</td>\n",
       "      <td>URTI</td>\n",
       "      <td>3.0</td>\n",
       "      <td>F</td>\n",
       "      <td>NaN</td>\n",
       "      <td>19.0</td>\n",
       "      <td>99.0</td>\n",
       "      <td>1b1_Al_sc_Meditron</td>\n",
       "      <td>5.793</td>\n",
       "      <td>7.521</td>\n",
       "      <td>0</td>\n",
       "      <td>0</td>\n",
       "      <td>0</td>\n",
       "      <td>0.000036</td>\n",
       "      <td>0.117565</td>\n",
       "      <td>-0.017593</td>\n",
       "      <td>-0.001040</td>\n",
       "      <td>1.806783e-08</td>\n",
       "    </tr>\n",
       "    <tr>\n",
       "      <th>...</th>\n",
       "      <td>...</td>\n",
       "      <td>...</td>\n",
       "      <td>...</td>\n",
       "      <td>...</td>\n",
       "      <td>...</td>\n",
       "      <td>...</td>\n",
       "      <td>...</td>\n",
       "      <td>...</td>\n",
       "      <td>...</td>\n",
       "      <td>...</td>\n",
       "      <td>...</td>\n",
       "      <td>...</td>\n",
       "      <td>...</td>\n",
       "      <td>...</td>\n",
       "      <td>...</td>\n",
       "      <td>...</td>\n",
       "      <td>...</td>\n",
       "      <td>...</td>\n",
       "    </tr>\n",
       "    <tr>\n",
       "      <th>6893</th>\n",
       "      <td>226</td>\n",
       "      <td>Pneumonia</td>\n",
       "      <td>4.0</td>\n",
       "      <td>M</td>\n",
       "      <td>NaN</td>\n",
       "      <td>16.7</td>\n",
       "      <td>103.0</td>\n",
       "      <td>1b1_Pl_sc_LittC2SE</td>\n",
       "      <td>11.721</td>\n",
       "      <td>13.693</td>\n",
       "      <td>1</td>\n",
       "      <td>0</td>\n",
       "      <td>1</td>\n",
       "      <td>0.000015</td>\n",
       "      <td>0.056514</td>\n",
       "      <td>-0.005161</td>\n",
       "      <td>-0.005630</td>\n",
       "      <td>7.528343e-09</td>\n",
       "    </tr>\n",
       "    <tr>\n",
       "      <th>6894</th>\n",
       "      <td>226</td>\n",
       "      <td>Pneumonia</td>\n",
       "      <td>4.0</td>\n",
       "      <td>M</td>\n",
       "      <td>NaN</td>\n",
       "      <td>16.7</td>\n",
       "      <td>103.0</td>\n",
       "      <td>1b1_Pl_sc_LittC2SE</td>\n",
       "      <td>13.693</td>\n",
       "      <td>15.536</td>\n",
       "      <td>0</td>\n",
       "      <td>0</td>\n",
       "      <td>0</td>\n",
       "      <td>0.000026</td>\n",
       "      <td>0.107412</td>\n",
       "      <td>-0.018191</td>\n",
       "      <td>-0.000332</td>\n",
       "      <td>1.279829e-08</td>\n",
       "    </tr>\n",
       "    <tr>\n",
       "      <th>6895</th>\n",
       "      <td>226</td>\n",
       "      <td>Pneumonia</td>\n",
       "      <td>4.0</td>\n",
       "      <td>M</td>\n",
       "      <td>NaN</td>\n",
       "      <td>16.7</td>\n",
       "      <td>103.0</td>\n",
       "      <td>1b1_Pl_sc_LittC2SE</td>\n",
       "      <td>15.536</td>\n",
       "      <td>17.493</td>\n",
       "      <td>0</td>\n",
       "      <td>0</td>\n",
       "      <td>0</td>\n",
       "      <td>0.000017</td>\n",
       "      <td>0.089678</td>\n",
       "      <td>0.002857</td>\n",
       "      <td>0.005618</td>\n",
       "      <td>8.751189e-09</td>\n",
       "    </tr>\n",
       "    <tr>\n",
       "      <th>6896</th>\n",
       "      <td>226</td>\n",
       "      <td>Pneumonia</td>\n",
       "      <td>4.0</td>\n",
       "      <td>M</td>\n",
       "      <td>NaN</td>\n",
       "      <td>16.7</td>\n",
       "      <td>103.0</td>\n",
       "      <td>1b1_Pl_sc_LittC2SE</td>\n",
       "      <td>17.493</td>\n",
       "      <td>19.436</td>\n",
       "      <td>1</td>\n",
       "      <td>0</td>\n",
       "      <td>1</td>\n",
       "      <td>0.000018</td>\n",
       "      <td>0.059962</td>\n",
       "      <td>-0.004191</td>\n",
       "      <td>0.002940</td>\n",
       "      <td>8.975479e-09</td>\n",
       "    </tr>\n",
       "    <tr>\n",
       "      <th>6897</th>\n",
       "      <td>226</td>\n",
       "      <td>Pneumonia</td>\n",
       "      <td>4.0</td>\n",
       "      <td>M</td>\n",
       "      <td>NaN</td>\n",
       "      <td>16.7</td>\n",
       "      <td>103.0</td>\n",
       "      <td>1b1_Pl_sc_LittC2SE</td>\n",
       "      <td>19.436</td>\n",
       "      <td>19.979</td>\n",
       "      <td>0</td>\n",
       "      <td>0</td>\n",
       "      <td>0</td>\n",
       "      <td>0.000042</td>\n",
       "      <td>0.046713</td>\n",
       "      <td>0.006035</td>\n",
       "      <td>0.000096</td>\n",
       "      <td>2.033625e-08</td>\n",
       "    </tr>\n",
       "  </tbody>\n",
       "</table>\n",
       "<p>6898 rows × 18 columns</p>\n",
       "</div>"
      ],
      "text/plain": [
       "      patient_ID  Diagnosis  age sex  IMC  weight  height          adq_format  \\\n",
       "0            101       URTI  3.0   F  NaN    19.0    99.0  1b1_Al_sc_Meditron   \n",
       "1            101       URTI  3.0   F  NaN    19.0    99.0  1b1_Al_sc_Meditron   \n",
       "2            101       URTI  3.0   F  NaN    19.0    99.0  1b1_Al_sc_Meditron   \n",
       "3            101       URTI  3.0   F  NaN    19.0    99.0  1b1_Al_sc_Meditron   \n",
       "4            101       URTI  3.0   F  NaN    19.0    99.0  1b1_Al_sc_Meditron   \n",
       "...          ...        ...  ...  ..  ...     ...     ...                 ...   \n",
       "6893         226  Pneumonia  4.0   M  NaN    16.7   103.0  1b1_Pl_sc_LittC2SE   \n",
       "6894         226  Pneumonia  4.0   M  NaN    16.7   103.0  1b1_Pl_sc_LittC2SE   \n",
       "6895         226  Pneumonia  4.0   M  NaN    16.7   103.0  1b1_Pl_sc_LittC2SE   \n",
       "6896         226  Pneumonia  4.0   M  NaN    16.7   103.0  1b1_Pl_sc_LittC2SE   \n",
       "6897         226  Pneumonia  4.0   M  NaN    16.7   103.0  1b1_Pl_sc_LittC2SE   \n",
       "\n",
       "       start     end  crackles  wheezes  state       Var     Range  Coarse_Av  \\\n",
       "0      0.036   0.579         0        0      0  0.000048  0.113594   0.000446   \n",
       "1      0.579   2.450         0        0      0  0.000066  0.159031   0.012435   \n",
       "2      2.450   3.893         0        0      0  0.000044  0.115345  -0.101963   \n",
       "3      3.893   5.793         0        0      0  0.000074  0.187316  -0.113660   \n",
       "4      5.793   7.521         0        0      0  0.000036  0.117565  -0.017593   \n",
       "...      ...     ...       ...      ...    ...       ...       ...        ...   \n",
       "6893  11.721  13.693         1        0      1  0.000015  0.056514  -0.005161   \n",
       "6894  13.693  15.536         0        0      0  0.000026  0.107412  -0.018191   \n",
       "6895  15.536  17.493         0        0      0  0.000017  0.089678   0.002857   \n",
       "6896  17.493  19.436         1        0      1  0.000018  0.059962  -0.004191   \n",
       "6897  19.436  19.979         0        0      0  0.000042  0.046713   0.006035   \n",
       "\n",
       "       Fine_Av   Spectrum Av  \n",
       "0     0.000599  2.537207e-08  \n",
       "1    -0.001276  3.532798e-08  \n",
       "2    -0.000701  2.213387e-08  \n",
       "3    -0.000223  3.485673e-08  \n",
       "4    -0.001040  1.806783e-08  \n",
       "...        ...           ...  \n",
       "6893 -0.005630  7.528343e-09  \n",
       "6894 -0.000332  1.279829e-08  \n",
       "6895  0.005618  8.751189e-09  \n",
       "6896  0.002940  8.975479e-09  \n",
       "6897  0.000096  2.033625e-08  \n",
       "\n",
       "[6898 rows x 18 columns]"
      ]
     },
     "execution_count": 274,
     "metadata": {},
     "output_type": "execute_result"
    }
   ],
   "source": [
    "df = pd.read_excel('auscultation_features.xlsx')\n",
    "df"
   ]
  },
  {
   "cell_type": "code",
   "execution_count": 133,
   "metadata": {},
   "outputs": [
    {
     "data": {
      "text/plain": [
       "6898"
      ]
     },
     "execution_count": 133,
     "metadata": {},
     "output_type": "execute_result"
    }
   ],
   "source": [
    "len(df)"
   ]
  },
  {
   "cell_type": "markdown",
   "metadata": {},
   "source": [
    "## Preparation required based on missing data"
   ]
  },
  {
   "cell_type": "markdown",
   "metadata": {},
   "source": [
    "Lets see what proportion of our dataset is `missing` and if it requires some cleaning:"
   ]
  },
  {
   "cell_type": "code",
   "execution_count": 134,
   "metadata": {},
   "outputs": [
    {
     "data": {
      "image/png": "[encoded data removed]",
      "text/plain": [
       "<Figure size 432x288 with 1 Axes>"
      ]
     },
     "metadata": {
      "needs_background": "light"
     },
     "output_type": "display_data"
    }
   ],
   "source": [
    "sns.heatmap(df.isnull(), cbar=False)\n",
    "plt.show()"
   ]
  },
  {
   "cell_type": "code",
   "execution_count": 135,
   "metadata": {},
   "outputs": [
    {
     "name": "stdout",
     "output_type": "stream",
     "text": [
      "patient_ID        0\n",
      "Diagnosis         0\n",
      "age              61\n",
      "sex              61\n",
      "IMC             894\n",
      "weight         6149\n",
      "height         6172\n",
      "adq_format        0\n",
      "start             0\n",
      "end               0\n",
      "crackles          0\n",
      "wheezes           0\n",
      "state             0\n",
      "Var               0\n",
      "Range             0\n",
      "Coarse_Av         0\n",
      "Fine_Av           0\n",
      "Spectrum Av       0\n",
      "dtype: int64\n"
     ]
    }
   ],
   "source": [
    "print(np.sum(df.isnull()==True))"
   ]
  },
  {
   "cell_type": "markdown",
   "metadata": {},
   "source": [
    "## Cleaning dataset"
   ]
  },
  {
   "cell_type": "markdown",
   "metadata": {},
   "source": [
    "The models in which I am interested, just need the statistical features and the diagnosis, so let's drop IMC, weight, height and the adquisition format columns:"
   ]
  },
  {
   "cell_type": "code",
   "execution_count": 136,
   "metadata": {},
   "outputs": [
    {
     "data": {
      "text/html": [
       "<div>\n",
       "<style scoped>\n",
       "    .dataframe tbody tr th:only-of-type {\n",
       "        vertical-align: middle;\n",
       "    }\n",
       "\n",
       "    .dataframe tbody tr th {\n",
       "        vertical-align: top;\n",
       "    }\n",
       "\n",
       "    .dataframe thead th {\n",
       "        text-align: right;\n",
       "    }\n",
       "</style>\n",
       "<table border=\"1\" class=\"dataframe\">\n",
       "  <thead>\n",
       "    <tr style=\"text-align: right;\">\n",
       "      <th></th>\n",
       "      <th>patient_ID</th>\n",
       "      <th>Diagnosis</th>\n",
       "      <th>age</th>\n",
       "      <th>sex</th>\n",
       "      <th>start</th>\n",
       "      <th>end</th>\n",
       "      <th>crackles</th>\n",
       "      <th>wheezes</th>\n",
       "      <th>state</th>\n",
       "      <th>Var</th>\n",
       "      <th>Range</th>\n",
       "      <th>Coarse_Av</th>\n",
       "      <th>Fine_Av</th>\n",
       "      <th>Spectrum Av</th>\n",
       "    </tr>\n",
       "  </thead>\n",
       "  <tbody>\n",
       "    <tr>\n",
       "      <th>0</th>\n",
       "      <td>101</td>\n",
       "      <td>URTI</td>\n",
       "      <td>3.0</td>\n",
       "      <td>F</td>\n",
       "      <td>0.036</td>\n",
       "      <td>0.579</td>\n",
       "      <td>0</td>\n",
       "      <td>0</td>\n",
       "      <td>0</td>\n",
       "      <td>0.000048</td>\n",
       "      <td>0.113594</td>\n",
       "      <td>0.000446</td>\n",
       "      <td>0.000599</td>\n",
       "      <td>2.537207e-08</td>\n",
       "    </tr>\n",
       "    <tr>\n",
       "      <th>1</th>\n",
       "      <td>101</td>\n",
       "      <td>URTI</td>\n",
       "      <td>3.0</td>\n",
       "      <td>F</td>\n",
       "      <td>0.579</td>\n",
       "      <td>2.450</td>\n",
       "      <td>0</td>\n",
       "      <td>0</td>\n",
       "      <td>0</td>\n",
       "      <td>0.000066</td>\n",
       "      <td>0.159031</td>\n",
       "      <td>0.012435</td>\n",
       "      <td>-0.001276</td>\n",
       "      <td>3.532798e-08</td>\n",
       "    </tr>\n",
       "    <tr>\n",
       "      <th>2</th>\n",
       "      <td>101</td>\n",
       "      <td>URTI</td>\n",
       "      <td>3.0</td>\n",
       "      <td>F</td>\n",
       "      <td>2.450</td>\n",
       "      <td>3.893</td>\n",
       "      <td>0</td>\n",
       "      <td>0</td>\n",
       "      <td>0</td>\n",
       "      <td>0.000044</td>\n",
       "      <td>0.115345</td>\n",
       "      <td>-0.101963</td>\n",
       "      <td>-0.000701</td>\n",
       "      <td>2.213387e-08</td>\n",
       "    </tr>\n",
       "    <tr>\n",
       "      <th>3</th>\n",
       "      <td>101</td>\n",
       "      <td>URTI</td>\n",
       "      <td>3.0</td>\n",
       "      <td>F</td>\n",
       "      <td>3.893</td>\n",
       "      <td>5.793</td>\n",
       "      <td>0</td>\n",
       "      <td>0</td>\n",
       "      <td>0</td>\n",
       "      <td>0.000074</td>\n",
       "      <td>0.187316</td>\n",
       "      <td>-0.113660</td>\n",
       "      <td>-0.000223</td>\n",
       "      <td>3.485673e-08</td>\n",
       "    </tr>\n",
       "    <tr>\n",
       "      <th>4</th>\n",
       "      <td>101</td>\n",
       "      <td>URTI</td>\n",
       "      <td>3.0</td>\n",
       "      <td>F</td>\n",
       "      <td>5.793</td>\n",
       "      <td>7.521</td>\n",
       "      <td>0</td>\n",
       "      <td>0</td>\n",
       "      <td>0</td>\n",
       "      <td>0.000036</td>\n",
       "      <td>0.117565</td>\n",
       "      <td>-0.017593</td>\n",
       "      <td>-0.001040</td>\n",
       "      <td>1.806783e-08</td>\n",
       "    </tr>\n",
       "    <tr>\n",
       "      <th>...</th>\n",
       "      <td>...</td>\n",
       "      <td>...</td>\n",
       "      <td>...</td>\n",
       "      <td>...</td>\n",
       "      <td>...</td>\n",
       "      <td>...</td>\n",
       "      <td>...</td>\n",
       "      <td>...</td>\n",
       "      <td>...</td>\n",
       "      <td>...</td>\n",
       "      <td>...</td>\n",
       "      <td>...</td>\n",
       "      <td>...</td>\n",
       "      <td>...</td>\n",
       "    </tr>\n",
       "    <tr>\n",
       "      <th>6893</th>\n",
       "      <td>226</td>\n",
       "      <td>Pneumonia</td>\n",
       "      <td>4.0</td>\n",
       "      <td>M</td>\n",
       "      <td>11.721</td>\n",
       "      <td>13.693</td>\n",
       "      <td>1</td>\n",
       "      <td>0</td>\n",
       "      <td>1</td>\n",
       "      <td>0.000015</td>\n",
       "      <td>0.056514</td>\n",
       "      <td>-0.005161</td>\n",
       "      <td>-0.005630</td>\n",
       "      <td>7.528343e-09</td>\n",
       "    </tr>\n",
       "    <tr>\n",
       "      <th>6894</th>\n",
       "      <td>226</td>\n",
       "      <td>Pneumonia</td>\n",
       "      <td>4.0</td>\n",
       "      <td>M</td>\n",
       "      <td>13.693</td>\n",
       "      <td>15.536</td>\n",
       "      <td>0</td>\n",
       "      <td>0</td>\n",
       "      <td>0</td>\n",
       "      <td>0.000026</td>\n",
       "      <td>0.107412</td>\n",
       "      <td>-0.018191</td>\n",
       "      <td>-0.000332</td>\n",
       "      <td>1.279829e-08</td>\n",
       "    </tr>\n",
       "    <tr>\n",
       "      <th>6895</th>\n",
       "      <td>226</td>\n",
       "      <td>Pneumonia</td>\n",
       "      <td>4.0</td>\n",
       "      <td>M</td>\n",
       "      <td>15.536</td>\n",
       "      <td>17.493</td>\n",
       "      <td>0</td>\n",
       "      <td>0</td>\n",
       "      <td>0</td>\n",
       "      <td>0.000017</td>\n",
       "      <td>0.089678</td>\n",
       "      <td>0.002857</td>\n",
       "      <td>0.005618</td>\n",
       "      <td>8.751189e-09</td>\n",
       "    </tr>\n",
       "    <tr>\n",
       "      <th>6896</th>\n",
       "      <td>226</td>\n",
       "      <td>Pneumonia</td>\n",
       "      <td>4.0</td>\n",
       "      <td>M</td>\n",
       "      <td>17.493</td>\n",
       "      <td>19.436</td>\n",
       "      <td>1</td>\n",
       "      <td>0</td>\n",
       "      <td>1</td>\n",
       "      <td>0.000018</td>\n",
       "      <td>0.059962</td>\n",
       "      <td>-0.004191</td>\n",
       "      <td>0.002940</td>\n",
       "      <td>8.975479e-09</td>\n",
       "    </tr>\n",
       "    <tr>\n",
       "      <th>6897</th>\n",
       "      <td>226</td>\n",
       "      <td>Pneumonia</td>\n",
       "      <td>4.0</td>\n",
       "      <td>M</td>\n",
       "      <td>19.436</td>\n",
       "      <td>19.979</td>\n",
       "      <td>0</td>\n",
       "      <td>0</td>\n",
       "      <td>0</td>\n",
       "      <td>0.000042</td>\n",
       "      <td>0.046713</td>\n",
       "      <td>0.006035</td>\n",
       "      <td>0.000096</td>\n",
       "      <td>2.033625e-08</td>\n",
       "    </tr>\n",
       "  </tbody>\n",
       "</table>\n",
       "<p>6898 rows × 14 columns</p>\n",
       "</div>"
      ],
      "text/plain": [
       "      patient_ID  Diagnosis  age sex   start     end  crackles  wheezes  \\\n",
       "0            101       URTI  3.0   F   0.036   0.579         0        0   \n",
       "1            101       URTI  3.0   F   0.579   2.450         0        0   \n",
       "2            101       URTI  3.0   F   2.450   3.893         0        0   \n",
       "3            101       URTI  3.0   F   3.893   5.793         0        0   \n",
       "4            101       URTI  3.0   F   5.793   7.521         0        0   \n",
       "...          ...        ...  ...  ..     ...     ...       ...      ...   \n",
       "6893         226  Pneumonia  4.0   M  11.721  13.693         1        0   \n",
       "6894         226  Pneumonia  4.0   M  13.693  15.536         0        0   \n",
       "6895         226  Pneumonia  4.0   M  15.536  17.493         0        0   \n",
       "6896         226  Pneumonia  4.0   M  17.493  19.436         1        0   \n",
       "6897         226  Pneumonia  4.0   M  19.436  19.979         0        0   \n",
       "\n",
       "      state       Var     Range  Coarse_Av   Fine_Av   Spectrum Av  \n",
       "0         0  0.000048  0.113594   0.000446  0.000599  2.537207e-08  \n",
       "1         0  0.000066  0.159031   0.012435 -0.001276  3.532798e-08  \n",
       "2         0  0.000044  0.115345  -0.101963 -0.000701  2.213387e-08  \n",
       "3         0  0.000074  0.187316  -0.113660 -0.000223  3.485673e-08  \n",
       "4         0  0.000036  0.117565  -0.017593 -0.001040  1.806783e-08  \n",
       "...     ...       ...       ...        ...       ...           ...  \n",
       "6893      1  0.000015  0.056514  -0.005161 -0.005630  7.528343e-09  \n",
       "6894      0  0.000026  0.107412  -0.018191 -0.000332  1.279829e-08  \n",
       "6895      0  0.000017  0.089678   0.002857  0.005618  8.751189e-09  \n",
       "6896      1  0.000018  0.059962  -0.004191  0.002940  8.975479e-09  \n",
       "6897      0  0.000042  0.046713   0.006035  0.000096  2.033625e-08  \n",
       "\n",
       "[6898 rows x 14 columns]"
      ]
     },
     "execution_count": 136,
     "metadata": {},
     "output_type": "execute_result"
    }
   ],
   "source": [
    "df.drop(['IMC','weight','height','adq_format'], axis=1, inplace=True)\n",
    "features = df.columns\n",
    "df"
   ]
  },
  {
   "cell_type": "markdown",
   "metadata": {},
   "source": [
    "Then, notice that only 61 values of the age and sex columns are missing, so there are two options:\n",
    "\n",
    "1) Discard the missing data: df = df.dropna()                                                    \n",
    "2) Impute the missing data\n",
    "\n",
    "#### Lets go ahead imputing these data with the **scikit learn** library using the **SimpleImputer** class"
   ]
  },
  {
   "cell_type": "code",
   "execution_count": 8,
   "metadata": {},
   "outputs": [],
   "source": [
    "from sklearn.impute import SimpleImputer"
   ]
  },
  {
   "cell_type": "code",
   "execution_count": 137,
   "metadata": {},
   "outputs": [],
   "source": [
    "imp = SimpleImputer(strategy=\"most_frequent\")\n",
    "df = pd.DataFrame(imp.fit_transform(df), columns = features)"
   ]
  },
  {
   "cell_type": "code",
   "execution_count": 138,
   "metadata": {},
   "outputs": [
    {
     "data": {
      "image/png": "[encoded data removed]",
      "text/plain": [
       "<Figure size 432x288 with 1 Axes>"
      ]
     },
     "metadata": {
      "needs_background": "light"
     },
     "output_type": "display_data"
    },
    {
     "name": "stdout",
     "output_type": "stream",
     "text": [
      "patient_ID     0\n",
      "Diagnosis      0\n",
      "age            0\n",
      "sex            0\n",
      "start          0\n",
      "end            0\n",
      "crackles       0\n",
      "wheezes        0\n",
      "state          0\n",
      "Var            0\n",
      "Range          0\n",
      "Coarse_Av      0\n",
      "Fine_Av        0\n",
      "Spectrum Av    0\n",
      "dtype: int64\n"
     ]
    }
   ],
   "source": [
    "sns.heatmap(df.isnull(), cbar=False)\n",
    "plt.show()\n",
    "print(np.sum(df.isnull()==True))"
   ]
  },
  {
   "cell_type": "markdown",
   "metadata": {},
   "source": [
    "# Scaling between -1:1 (Normalization with Sckit Learn)"
   ]
  },
  {
   "cell_type": "code",
   "execution_count": 11,
   "metadata": {},
   "outputs": [],
   "source": [
    "from sklearn import preprocessing"
   ]
  },
  {
   "cell_type": "code",
   "execution_count": 218,
   "metadata": {},
   "outputs": [
    {
     "data": {
      "text/html": [
       "<div>\n",
       "<style scoped>\n",
       "    .dataframe tbody tr th:only-of-type {\n",
       "        vertical-align: middle;\n",
       "    }\n",
       "\n",
       "    .dataframe tbody tr th {\n",
       "        vertical-align: top;\n",
       "    }\n",
       "\n",
       "    .dataframe thead th {\n",
       "        text-align: right;\n",
       "    }\n",
       "</style>\n",
       "<table border=\"1\" class=\"dataframe\">\n",
       "  <thead>\n",
       "    <tr style=\"text-align: right;\">\n",
       "      <th></th>\n",
       "      <th>patient_ID</th>\n",
       "      <th>Diagnosis</th>\n",
       "      <th>age</th>\n",
       "      <th>sex</th>\n",
       "      <th>start</th>\n",
       "      <th>end</th>\n",
       "      <th>crackles</th>\n",
       "      <th>wheezes</th>\n",
       "      <th>state</th>\n",
       "      <th>Var</th>\n",
       "      <th>Range</th>\n",
       "      <th>Coarse_Av</th>\n",
       "      <th>Fine_Av</th>\n",
       "      <th>Spectrum Av</th>\n",
       "      <th>Intercept</th>\n",
       "    </tr>\n",
       "  </thead>\n",
       "  <tbody>\n",
       "    <tr>\n",
       "      <th>3153</th>\n",
       "      <td>158</td>\n",
       "      <td>COPD</td>\n",
       "      <td>63</td>\n",
       "      <td>M</td>\n",
       "      <td>10.276</td>\n",
       "      <td>12.73</td>\n",
       "      <td>0</td>\n",
       "      <td>0</td>\n",
       "      <td>0</td>\n",
       "      <td>-0.333874</td>\n",
       "      <td>-0.252502</td>\n",
       "      <td>-0.00854766</td>\n",
       "      <td>0.342765</td>\n",
       "      <td>-0.335266</td>\n",
       "      <td>1</td>\n",
       "    </tr>\n",
       "    <tr>\n",
       "      <th>2195</th>\n",
       "      <td>144</td>\n",
       "      <td>Healthy</td>\n",
       "      <td>3</td>\n",
       "      <td>M</td>\n",
       "      <td>11.836</td>\n",
       "      <td>13.736</td>\n",
       "      <td>0</td>\n",
       "      <td>0</td>\n",
       "      <td>0</td>\n",
       "      <td>-0.408888</td>\n",
       "      <td>-0.877265</td>\n",
       "      <td>0.0520217</td>\n",
       "      <td>0.0109757</td>\n",
       "      <td>-0.406949</td>\n",
       "      <td>1</td>\n",
       "    </tr>\n",
       "    <tr>\n",
       "      <th>2130</th>\n",
       "      <td>141</td>\n",
       "      <td>COPD</td>\n",
       "      <td>66</td>\n",
       "      <td>M</td>\n",
       "      <td>18.279</td>\n",
       "      <td>19.307</td>\n",
       "      <td>0</td>\n",
       "      <td>1</td>\n",
       "      <td>2</td>\n",
       "      <td>-0.400046</td>\n",
       "      <td>-0.752192</td>\n",
       "      <td>-0.0269303</td>\n",
       "      <td>-0.025986</td>\n",
       "      <td>-0.397925</td>\n",
       "      <td>1</td>\n",
       "    </tr>\n",
       "    <tr>\n",
       "      <th>2502</th>\n",
       "      <td>151</td>\n",
       "      <td>COPD</td>\n",
       "      <td>75</td>\n",
       "      <td>M</td>\n",
       "      <td>12.179</td>\n",
       "      <td>15.701</td>\n",
       "      <td>1</td>\n",
       "      <td>0</td>\n",
       "      <td>1</td>\n",
       "      <td>-0.384935</td>\n",
       "      <td>-0.603046</td>\n",
       "      <td>0.23697</td>\n",
       "      <td>0.0311238</td>\n",
       "      <td>-0.383317</td>\n",
       "      <td>1</td>\n",
       "    </tr>\n",
       "    <tr>\n",
       "      <th>2176</th>\n",
       "      <td>143</td>\n",
       "      <td>Healthy</td>\n",
       "      <td>0.25</td>\n",
       "      <td>F</td>\n",
       "      <td>17.25</td>\n",
       "      <td>18.35</td>\n",
       "      <td>0</td>\n",
       "      <td>0</td>\n",
       "      <td>0</td>\n",
       "      <td>-0.409529</td>\n",
       "      <td>-0.853852</td>\n",
       "      <td>-0.00188055</td>\n",
       "      <td>0.0171662</td>\n",
       "      <td>-0.407659</td>\n",
       "      <td>1</td>\n",
       "    </tr>\n",
       "    <tr>\n",
       "      <th>...</th>\n",
       "      <td>...</td>\n",
       "      <td>...</td>\n",
       "      <td>...</td>\n",
       "      <td>...</td>\n",
       "      <td>...</td>\n",
       "      <td>...</td>\n",
       "      <td>...</td>\n",
       "      <td>...</td>\n",
       "      <td>...</td>\n",
       "      <td>...</td>\n",
       "      <td>...</td>\n",
       "      <td>...</td>\n",
       "      <td>...</td>\n",
       "      <td>...</td>\n",
       "      <td>...</td>\n",
       "    </tr>\n",
       "    <tr>\n",
       "      <th>6284</th>\n",
       "      <td>211</td>\n",
       "      <td>COPD</td>\n",
       "      <td>70</td>\n",
       "      <td>F</td>\n",
       "      <td>8.894</td>\n",
       "      <td>10.235</td>\n",
       "      <td>0</td>\n",
       "      <td>0</td>\n",
       "      <td>0</td>\n",
       "      <td>-0.147175</td>\n",
       "      <td>-0.260528</td>\n",
       "      <td>0.1067</td>\n",
       "      <td>-1.51089</td>\n",
       "      <td>-0.1367</td>\n",
       "      <td>1</td>\n",
       "    </tr>\n",
       "    <tr>\n",
       "      <th>411</th>\n",
       "      <td>109</td>\n",
       "      <td>COPD</td>\n",
       "      <td>84</td>\n",
       "      <td>F</td>\n",
       "      <td>8.55</td>\n",
       "      <td>10.674</td>\n",
       "      <td>0</td>\n",
       "      <td>0</td>\n",
       "      <td>0</td>\n",
       "      <td>-0.233228</td>\n",
       "      <td>0.437392</td>\n",
       "      <td>0.0418405</td>\n",
       "      <td>0.0393682</td>\n",
       "      <td>-0.2357</td>\n",
       "      <td>1</td>\n",
       "    </tr>\n",
       "    <tr>\n",
       "      <th>1511</th>\n",
       "      <td>130</td>\n",
       "      <td>COPD</td>\n",
       "      <td>85</td>\n",
       "      <td>F</td>\n",
       "      <td>18.156</td>\n",
       "      <td>19.194</td>\n",
       "      <td>1</td>\n",
       "      <td>0</td>\n",
       "      <td>1</td>\n",
       "      <td>-0.284592</td>\n",
       "      <td>-0.579716</td>\n",
       "      <td>0.0209268</td>\n",
       "      <td>-0.0706335</td>\n",
       "      <td>-0.283251</td>\n",
       "      <td>1</td>\n",
       "    </tr>\n",
       "    <tr>\n",
       "      <th>6118</th>\n",
       "      <td>207</td>\n",
       "      <td>COPD</td>\n",
       "      <td>63</td>\n",
       "      <td>F</td>\n",
       "      <td>1.261</td>\n",
       "      <td>4.583</td>\n",
       "      <td>0</td>\n",
       "      <td>0</td>\n",
       "      <td>0</td>\n",
       "      <td>-0.160055</td>\n",
       "      <td>0.0678598</td>\n",
       "      <td>0.072842</td>\n",
       "      <td>0.630796</td>\n",
       "      <td>-0.160613</td>\n",
       "      <td>1</td>\n",
       "    </tr>\n",
       "    <tr>\n",
       "      <th>4025</th>\n",
       "      <td>172</td>\n",
       "      <td>COPD</td>\n",
       "      <td>73</td>\n",
       "      <td>M</td>\n",
       "      <td>14.716</td>\n",
       "      <td>17.571</td>\n",
       "      <td>1</td>\n",
       "      <td>0</td>\n",
       "      <td>1</td>\n",
       "      <td>-0.370377</td>\n",
       "      <td>-0.595794</td>\n",
       "      <td>0.0676996</td>\n",
       "      <td>0.0118841</td>\n",
       "      <td>-0.369563</td>\n",
       "      <td>1</td>\n",
       "    </tr>\n",
       "  </tbody>\n",
       "</table>\n",
       "<p>6898 rows × 15 columns</p>\n",
       "</div>"
      ],
      "text/plain": [
       "     patient_ID Diagnosis   age sex   start     end crackles wheezes state  \\\n",
       "3153        158      COPD    63   M  10.276   12.73        0       0     0   \n",
       "2195        144   Healthy     3   M  11.836  13.736        0       0     0   \n",
       "2130        141      COPD    66   M  18.279  19.307        0       1     2   \n",
       "2502        151      COPD    75   M  12.179  15.701        1       0     1   \n",
       "2176        143   Healthy  0.25   F   17.25   18.35        0       0     0   \n",
       "...         ...       ...   ...  ..     ...     ...      ...     ...   ...   \n",
       "6284        211      COPD    70   F   8.894  10.235        0       0     0   \n",
       "411         109      COPD    84   F    8.55  10.674        0       0     0   \n",
       "1511        130      COPD    85   F  18.156  19.194        1       0     1   \n",
       "6118        207      COPD    63   F   1.261   4.583        0       0     0   \n",
       "4025        172      COPD    73   M  14.716  17.571        1       0     1   \n",
       "\n",
       "           Var      Range   Coarse_Av    Fine_Av Spectrum Av  Intercept  \n",
       "3153 -0.333874  -0.252502 -0.00854766   0.342765   -0.335266          1  \n",
       "2195 -0.408888  -0.877265   0.0520217  0.0109757   -0.406949          1  \n",
       "2130 -0.400046  -0.752192  -0.0269303  -0.025986   -0.397925          1  \n",
       "2502 -0.384935  -0.603046     0.23697  0.0311238   -0.383317          1  \n",
       "2176 -0.409529  -0.853852 -0.00188055  0.0171662   -0.407659          1  \n",
       "...        ...        ...         ...        ...         ...        ...  \n",
       "6284 -0.147175  -0.260528      0.1067   -1.51089     -0.1367          1  \n",
       "411  -0.233228   0.437392   0.0418405  0.0393682     -0.2357          1  \n",
       "1511 -0.284592  -0.579716   0.0209268 -0.0706335   -0.283251          1  \n",
       "6118 -0.160055  0.0678598    0.072842   0.630796   -0.160613          1  \n",
       "4025 -0.370377  -0.595794   0.0676996  0.0118841   -0.369563          1  \n",
       "\n",
       "[6898 rows x 15 columns]"
      ]
     },
     "execution_count": 218,
     "metadata": {},
     "output_type": "execute_result"
    }
   ],
   "source": [
    "df.loc[:, 'Var':'Spectrum Av'] = preprocessing.scale(df.loc[:, 'Var':'Spectrum Av'])\n",
    "df['Intercept'] = 1\n",
    "df"
   ]
  },
  {
   "cell_type": "markdown",
   "metadata": {},
   "source": [
    "# Shuffle the dataset because:\n",
    "\n",
    "1) Shuffled samples will help us avoid areas of the model that under/overfil the data\n",
    "\n",
    "2) If we evaluate a movel based on data it has seen before, we may overestimate its performance"
   ]
  },
  {
   "cell_type": "code",
   "execution_count": 219,
   "metadata": {},
   "outputs": [
    {
     "data": {
      "text/html": [
       "<div>\n",
       "<style scoped>\n",
       "    .dataframe tbody tr th:only-of-type {\n",
       "        vertical-align: middle;\n",
       "    }\n",
       "\n",
       "    .dataframe tbody tr th {\n",
       "        vertical-align: top;\n",
       "    }\n",
       "\n",
       "    .dataframe thead th {\n",
       "        text-align: right;\n",
       "    }\n",
       "</style>\n",
       "<table border=\"1\" class=\"dataframe\">\n",
       "  <thead>\n",
       "    <tr style=\"text-align: right;\">\n",
       "      <th></th>\n",
       "      <th>patient_ID</th>\n",
       "      <th>Diagnosis</th>\n",
       "      <th>age</th>\n",
       "      <th>sex</th>\n",
       "      <th>start</th>\n",
       "      <th>end</th>\n",
       "      <th>crackles</th>\n",
       "      <th>wheezes</th>\n",
       "      <th>state</th>\n",
       "      <th>Var</th>\n",
       "      <th>Range</th>\n",
       "      <th>Coarse_Av</th>\n",
       "      <th>Fine_Av</th>\n",
       "      <th>Spectrum Av</th>\n",
       "      <th>Intercept</th>\n",
       "    </tr>\n",
       "  </thead>\n",
       "  <tbody>\n",
       "    <tr>\n",
       "      <th>2924</th>\n",
       "      <td>156</td>\n",
       "      <td>COPD</td>\n",
       "      <td>80</td>\n",
       "      <td>M</td>\n",
       "      <td>14.535</td>\n",
       "      <td>17.589</td>\n",
       "      <td>1</td>\n",
       "      <td>1</td>\n",
       "      <td>3</td>\n",
       "      <td>-0.401156</td>\n",
       "      <td>-0.798398</td>\n",
       "      <td>0.200927</td>\n",
       "      <td>0.106203</td>\n",
       "      <td>-0.399382</td>\n",
       "      <td>1</td>\n",
       "    </tr>\n",
       "    <tr>\n",
       "      <th>1661</th>\n",
       "      <td>133</td>\n",
       "      <td>COPD</td>\n",
       "      <td>68</td>\n",
       "      <td>M</td>\n",
       "      <td>8.375</td>\n",
       "      <td>10.78</td>\n",
       "      <td>0</td>\n",
       "      <td>0</td>\n",
       "      <td>0</td>\n",
       "      <td>-0.274294</td>\n",
       "      <td>-0.331413</td>\n",
       "      <td>0.121491</td>\n",
       "      <td>-0.266822</td>\n",
       "      <td>-0.270577</td>\n",
       "      <td>1</td>\n",
       "    </tr>\n",
       "    <tr>\n",
       "      <th>1605</th>\n",
       "      <td>133</td>\n",
       "      <td>COPD</td>\n",
       "      <td>68</td>\n",
       "      <td>M</td>\n",
       "      <td>7.375</td>\n",
       "      <td>9.946</td>\n",
       "      <td>1</td>\n",
       "      <td>0</td>\n",
       "      <td>1</td>\n",
       "      <td>0.565438</td>\n",
       "      <td>1.09739</td>\n",
       "      <td>0.00611665</td>\n",
       "      <td>1.09806</td>\n",
       "      <td>0.586861</td>\n",
       "      <td>1</td>\n",
       "    </tr>\n",
       "    <tr>\n",
       "      <th>343</th>\n",
       "      <td>107</td>\n",
       "      <td>COPD</td>\n",
       "      <td>75</td>\n",
       "      <td>F</td>\n",
       "      <td>16.696</td>\n",
       "      <td>18.887</td>\n",
       "      <td>1</td>\n",
       "      <td>0</td>\n",
       "      <td>1</td>\n",
       "      <td>0.2183</td>\n",
       "      <td>1.93693</td>\n",
       "      <td>0.59383</td>\n",
       "      <td>0.31942</td>\n",
       "      <td>0.21216</td>\n",
       "      <td>1</td>\n",
       "    </tr>\n",
       "    <tr>\n",
       "      <th>1331</th>\n",
       "      <td>130</td>\n",
       "      <td>COPD</td>\n",
       "      <td>85</td>\n",
       "      <td>F</td>\n",
       "      <td>5.937</td>\n",
       "      <td>7.83</td>\n",
       "      <td>1</td>\n",
       "      <td>0</td>\n",
       "      <td>1</td>\n",
       "      <td>0.474795</td>\n",
       "      <td>0.825708</td>\n",
       "      <td>3.22218</td>\n",
       "      <td>-0.981882</td>\n",
       "      <td>0.517281</td>\n",
       "      <td>1</td>\n",
       "    </tr>\n",
       "    <tr>\n",
       "      <th>...</th>\n",
       "      <td>...</td>\n",
       "      <td>...</td>\n",
       "      <td>...</td>\n",
       "      <td>...</td>\n",
       "      <td>...</td>\n",
       "      <td>...</td>\n",
       "      <td>...</td>\n",
       "      <td>...</td>\n",
       "      <td>...</td>\n",
       "      <td>...</td>\n",
       "      <td>...</td>\n",
       "      <td>...</td>\n",
       "      <td>...</td>\n",
       "      <td>...</td>\n",
       "      <td>...</td>\n",
       "    </tr>\n",
       "    <tr>\n",
       "      <th>5995</th>\n",
       "      <td>205</td>\n",
       "      <td>COPD</td>\n",
       "      <td>45</td>\n",
       "      <td>M</td>\n",
       "      <td>15.994</td>\n",
       "      <td>19.688</td>\n",
       "      <td>1</td>\n",
       "      <td>0</td>\n",
       "      <td>1</td>\n",
       "      <td>-0.32124</td>\n",
       "      <td>0.704738</td>\n",
       "      <td>-0.0072496</td>\n",
       "      <td>0.164282</td>\n",
       "      <td>-0.323834</td>\n",
       "      <td>1</td>\n",
       "    </tr>\n",
       "    <tr>\n",
       "      <th>2361</th>\n",
       "      <td>147</td>\n",
       "      <td>COPD</td>\n",
       "      <td>77</td>\n",
       "      <td>M</td>\n",
       "      <td>8.364</td>\n",
       "      <td>12.794</td>\n",
       "      <td>0</td>\n",
       "      <td>1</td>\n",
       "      <td>2</td>\n",
       "      <td>0.142992</td>\n",
       "      <td>0.875651</td>\n",
       "      <td>-0.0204281</td>\n",
       "      <td>-0.101878</td>\n",
       "      <td>0.139608</td>\n",
       "      <td>1</td>\n",
       "    </tr>\n",
       "    <tr>\n",
       "      <th>1020</th>\n",
       "      <td>130</td>\n",
       "      <td>COPD</td>\n",
       "      <td>85</td>\n",
       "      <td>F</td>\n",
       "      <td>0.697</td>\n",
       "      <td>2.423</td>\n",
       "      <td>1</td>\n",
       "      <td>0</td>\n",
       "      <td>1</td>\n",
       "      <td>-0.39095</td>\n",
       "      <td>-0.7327</td>\n",
       "      <td>0.906886</td>\n",
       "      <td>0.378545</td>\n",
       "      <td>-0.389354</td>\n",
       "      <td>1</td>\n",
       "    </tr>\n",
       "    <tr>\n",
       "      <th>4174</th>\n",
       "      <td>174</td>\n",
       "      <td>COPD</td>\n",
       "      <td>68</td>\n",
       "      <td>M</td>\n",
       "      <td>0.593</td>\n",
       "      <td>3.331</td>\n",
       "      <td>0</td>\n",
       "      <td>1</td>\n",
       "      <td>2</td>\n",
       "      <td>-0.387805</td>\n",
       "      <td>-0.736466</td>\n",
       "      <td>-0.082893</td>\n",
       "      <td>-0.168168</td>\n",
       "      <td>-0.385898</td>\n",
       "      <td>1</td>\n",
       "    </tr>\n",
       "    <tr>\n",
       "      <th>1965</th>\n",
       "      <td>138</td>\n",
       "      <td>COPD</td>\n",
       "      <td>56</td>\n",
       "      <td>F</td>\n",
       "      <td>5.267</td>\n",
       "      <td>9.224</td>\n",
       "      <td>1</td>\n",
       "      <td>0</td>\n",
       "      <td>1</td>\n",
       "      <td>0.468142</td>\n",
       "      <td>1.6861</td>\n",
       "      <td>-0.123771</td>\n",
       "      <td>-0.737297</td>\n",
       "      <td>0.435759</td>\n",
       "      <td>1</td>\n",
       "    </tr>\n",
       "  </tbody>\n",
       "</table>\n",
       "<p>6898 rows × 15 columns</p>\n",
       "</div>"
      ],
      "text/plain": [
       "     patient_ID Diagnosis age sex   start     end crackles wheezes state  \\\n",
       "2924        156      COPD  80   M  14.535  17.589        1       1     3   \n",
       "1661        133      COPD  68   M   8.375   10.78        0       0     0   \n",
       "1605        133      COPD  68   M   7.375   9.946        1       0     1   \n",
       "343         107      COPD  75   F  16.696  18.887        1       0     1   \n",
       "1331        130      COPD  85   F   5.937    7.83        1       0     1   \n",
       "...         ...       ...  ..  ..     ...     ...      ...     ...   ...   \n",
       "5995        205      COPD  45   M  15.994  19.688        1       0     1   \n",
       "2361        147      COPD  77   M   8.364  12.794        0       1     2   \n",
       "1020        130      COPD  85   F   0.697   2.423        1       0     1   \n",
       "4174        174      COPD  68   M   0.593   3.331        0       1     2   \n",
       "1965        138      COPD  56   F   5.267   9.224        1       0     1   \n",
       "\n",
       "           Var     Range   Coarse_Av   Fine_Av Spectrum Av  Intercept  \n",
       "2924 -0.401156 -0.798398    0.200927  0.106203   -0.399382          1  \n",
       "1661 -0.274294 -0.331413    0.121491 -0.266822   -0.270577          1  \n",
       "1605  0.565438   1.09739  0.00611665   1.09806    0.586861          1  \n",
       "343     0.2183   1.93693     0.59383   0.31942     0.21216          1  \n",
       "1331  0.474795  0.825708     3.22218 -0.981882    0.517281          1  \n",
       "...        ...       ...         ...       ...         ...        ...  \n",
       "5995  -0.32124  0.704738  -0.0072496  0.164282   -0.323834          1  \n",
       "2361  0.142992  0.875651  -0.0204281 -0.101878    0.139608          1  \n",
       "1020  -0.39095   -0.7327    0.906886  0.378545   -0.389354          1  \n",
       "4174 -0.387805 -0.736466   -0.082893 -0.168168   -0.385898          1  \n",
       "1965  0.468142    1.6861   -0.123771 -0.737297    0.435759          1  \n",
       "\n",
       "[6898 rows x 15 columns]"
      ]
     },
     "execution_count": 219,
     "metadata": {},
     "output_type": "execute_result"
    }
   ],
   "source": [
    "df = df.sample(frac=1)\n",
    "df"
   ]
  },
  {
   "cell_type": "markdown",
   "metadata": {},
   "source": [
    "**Labels to predict:**"
   ]
  },
  {
   "cell_type": "code",
   "execution_count": 220,
   "metadata": {},
   "outputs": [
    {
     "data": {
      "text/plain": [
       "[[3], [0], [1], [1], [1], [0], [1], [0], [0], [2]]"
      ]
     },
     "execution_count": 220,
     "metadata": {},
     "output_type": "execute_result"
    }
   ],
   "source": [
    "y = df['state'].values.reshape(-1,1)  # -1 means that calculate the dimension of rows, but have 1 column\n",
    "y = y.tolist()\n",
    "y[:10]"
   ]
  },
  {
   "cell_type": "markdown",
   "metadata": {},
   "source": [
    "**Features used to predict:**"
   ]
  },
  {
   "cell_type": "code",
   "execution_count": 221,
   "metadata": {},
   "outputs": [
    {
     "data": {
      "text/html": [
       "<div>\n",
       "<style scoped>\n",
       "    .dataframe tbody tr th:only-of-type {\n",
       "        vertical-align: middle;\n",
       "    }\n",
       "\n",
       "    .dataframe tbody tr th {\n",
       "        vertical-align: top;\n",
       "    }\n",
       "\n",
       "    .dataframe thead th {\n",
       "        text-align: right;\n",
       "    }\n",
       "</style>\n",
       "<table border=\"1\" class=\"dataframe\">\n",
       "  <thead>\n",
       "    <tr style=\"text-align: right;\">\n",
       "      <th></th>\n",
       "      <th>Intercept</th>\n",
       "      <th>Var</th>\n",
       "      <th>Range</th>\n",
       "      <th>Coarse_Av</th>\n",
       "      <th>Fine_Av</th>\n",
       "      <th>Spectrum Av</th>\n",
       "    </tr>\n",
       "  </thead>\n",
       "  <tbody>\n",
       "    <tr>\n",
       "      <th>2924</th>\n",
       "      <td>1</td>\n",
       "      <td>-0.401156</td>\n",
       "      <td>-0.798398</td>\n",
       "      <td>0.200927</td>\n",
       "      <td>0.106203</td>\n",
       "      <td>-0.399382</td>\n",
       "    </tr>\n",
       "    <tr>\n",
       "      <th>1661</th>\n",
       "      <td>1</td>\n",
       "      <td>-0.274294</td>\n",
       "      <td>-0.331413</td>\n",
       "      <td>0.121491</td>\n",
       "      <td>-0.266822</td>\n",
       "      <td>-0.270577</td>\n",
       "    </tr>\n",
       "    <tr>\n",
       "      <th>1605</th>\n",
       "      <td>1</td>\n",
       "      <td>0.565438</td>\n",
       "      <td>1.09739</td>\n",
       "      <td>0.00611665</td>\n",
       "      <td>1.09806</td>\n",
       "      <td>0.586861</td>\n",
       "    </tr>\n",
       "    <tr>\n",
       "      <th>343</th>\n",
       "      <td>1</td>\n",
       "      <td>0.2183</td>\n",
       "      <td>1.93693</td>\n",
       "      <td>0.59383</td>\n",
       "      <td>0.31942</td>\n",
       "      <td>0.21216</td>\n",
       "    </tr>\n",
       "    <tr>\n",
       "      <th>1331</th>\n",
       "      <td>1</td>\n",
       "      <td>0.474795</td>\n",
       "      <td>0.825708</td>\n",
       "      <td>3.22218</td>\n",
       "      <td>-0.981882</td>\n",
       "      <td>0.517281</td>\n",
       "    </tr>\n",
       "    <tr>\n",
       "      <th>...</th>\n",
       "      <td>...</td>\n",
       "      <td>...</td>\n",
       "      <td>...</td>\n",
       "      <td>...</td>\n",
       "      <td>...</td>\n",
       "      <td>...</td>\n",
       "    </tr>\n",
       "    <tr>\n",
       "      <th>5995</th>\n",
       "      <td>1</td>\n",
       "      <td>-0.32124</td>\n",
       "      <td>0.704738</td>\n",
       "      <td>-0.0072496</td>\n",
       "      <td>0.164282</td>\n",
       "      <td>-0.323834</td>\n",
       "    </tr>\n",
       "    <tr>\n",
       "      <th>2361</th>\n",
       "      <td>1</td>\n",
       "      <td>0.142992</td>\n",
       "      <td>0.875651</td>\n",
       "      <td>-0.0204281</td>\n",
       "      <td>-0.101878</td>\n",
       "      <td>0.139608</td>\n",
       "    </tr>\n",
       "    <tr>\n",
       "      <th>1020</th>\n",
       "      <td>1</td>\n",
       "      <td>-0.39095</td>\n",
       "      <td>-0.7327</td>\n",
       "      <td>0.906886</td>\n",
       "      <td>0.378545</td>\n",
       "      <td>-0.389354</td>\n",
       "    </tr>\n",
       "    <tr>\n",
       "      <th>4174</th>\n",
       "      <td>1</td>\n",
       "      <td>-0.387805</td>\n",
       "      <td>-0.736466</td>\n",
       "      <td>-0.082893</td>\n",
       "      <td>-0.168168</td>\n",
       "      <td>-0.385898</td>\n",
       "    </tr>\n",
       "    <tr>\n",
       "      <th>1965</th>\n",
       "      <td>1</td>\n",
       "      <td>0.468142</td>\n",
       "      <td>1.6861</td>\n",
       "      <td>-0.123771</td>\n",
       "      <td>-0.737297</td>\n",
       "      <td>0.435759</td>\n",
       "    </tr>\n",
       "  </tbody>\n",
       "</table>\n",
       "<p>6898 rows × 6 columns</p>\n",
       "</div>"
      ],
      "text/plain": [
       "      Intercept       Var     Range   Coarse_Av   Fine_Av Spectrum Av\n",
       "2924          1 -0.401156 -0.798398    0.200927  0.106203   -0.399382\n",
       "1661          1 -0.274294 -0.331413    0.121491 -0.266822   -0.270577\n",
       "1605          1  0.565438   1.09739  0.00611665   1.09806    0.586861\n",
       "343           1    0.2183   1.93693     0.59383   0.31942     0.21216\n",
       "1331          1  0.474795  0.825708     3.22218 -0.981882    0.517281\n",
       "...         ...       ...       ...         ...       ...         ...\n",
       "5995          1  -0.32124  0.704738  -0.0072496  0.164282   -0.323834\n",
       "2361          1  0.142992  0.875651  -0.0204281 -0.101878    0.139608\n",
       "1020          1  -0.39095   -0.7327    0.906886  0.378545   -0.389354\n",
       "4174          1 -0.387805 -0.736466   -0.082893 -0.168168   -0.385898\n",
       "1965          1  0.468142    1.6861   -0.123771 -0.737297    0.435759\n",
       "\n",
       "[6898 rows x 6 columns]"
      ]
     },
     "execution_count": 221,
     "metadata": {},
     "output_type": "execute_result"
    }
   ],
   "source": [
    "X = pd.concat([df['Intercept'], df.loc[:, 'Var':'Spectrum Av']], axis=1)\n",
    "X"
   ]
  },
  {
   "cell_type": "markdown",
   "metadata": {},
   "source": [
    "# Data Split"
   ]
  },
  {
   "cell_type": "code",
   "execution_count": 222,
   "metadata": {},
   "outputs": [],
   "source": [
    "N = len(X)\n",
    "\n",
    "# 50%, 25%, 25% (non-overlapping) splits\n",
    "\n",
    "X_train = X[:N//2] # 0%:50%\n",
    "X_valid = X[N//2:3*N//4] # 50%:75%\n",
    "X_test = X[3*N//4:] # 75%:100%\n",
    "\n",
    "y_train = y[:N//2]\n",
    "y_valid = y[N//2:3*N//4]\n",
    "y_test = y[3*N//4:]"
   ]
  },
  {
   "cell_type": "code",
   "execution_count": 223,
   "metadata": {},
   "outputs": [
    {
     "data": {
      "text/plain": [
       "(6898, 3449, 1724, 1725)"
      ]
     },
     "execution_count": 223,
     "metadata": {},
     "output_type": "execute_result"
    }
   ],
   "source": [
    "# Examine size of data\n",
    "len(X), len(X_train), len(X_valid), len(X_test)"
   ]
  },
  {
   "cell_type": "markdown",
   "metadata": {},
   "source": [
    "# Rigde model which allows us to implement regression with a regularizer"
   ]
  },
  {
   "attachments": {
    "note_1.PNG": {
     "image/png": "[encoded data removed]"
    }
   },
   "cell_type": "markdown",
   "metadata": {},
   "source": [
    "![note_1.PNG](attachment:note_1.PNG)"
   ]
  },
  {
   "cell_type": "markdown",
   "metadata": {},
   "source": [
    "To implement the pipeline, we:\n",
    "1. Iterate through various values of lambda\n",
    "2. Fit a ridge regression model for each of these values\n",
    "3. Evaluate the performance of this model on the validation set\n",
    "4. Keep track of which model is the best we've seen so far (on the validation set)"
   ]
  },
  {
   "cell_type": "code",
   "execution_count": 224,
   "metadata": {},
   "outputs": [],
   "source": [
    "from sklearn import linear_model"
   ]
  },
  {
   "cell_type": "code",
   "execution_count": 225,
   "metadata": {},
   "outputs": [],
   "source": [
    "def MSE(model, X, y):\n",
    "    predictions = model.predict(X)\n",
    "    differences = [(a-b)**2 for (a,b) in zip(predictions,y)]\n",
    "    return sum(differences) / len(differences)"
   ]
  },
  {
   "cell_type": "code",
   "execution_count": 226,
   "metadata": {},
   "outputs": [],
   "source": [
    "# Variables to keep track of the current best model and MSE\n",
    "bestModel = None \n",
    "bestMSE = None"
   ]
  },
  {
   "cell_type": "code",
   "execution_count": 227,
   "metadata": {},
   "outputs": [
    {
     "name": "stdout",
     "output_type": "stream",
     "text": [
      "lambda = 0.01, training/validation error[0.86022051]/[0.87735039]\n",
      "lambda = 0.1, training/validation error[0.86022127]/[0.8773391]\n",
      "lambda = 1, training/validation error[0.86025821]/[0.87728537]\n",
      "lambda = 10, training/validation error[0.86046107]/[0.87739919]\n",
      "lambda = 100, training/validation error[0.86099701]/[0.8794343]\n"
     ]
    }
   ],
   "source": [
    "for lamb in [0.01, 0.1, 1, 10, 100]:\n",
    "    # Fit a model for each lambda value\n",
    "    model = linear_model.Ridge(lamb, fit_intercept=False) \n",
    "    model.fit(X_train, y_train)\n",
    "    \n",
    "    mseTrain = MSE(model, X_train, y_train)\n",
    "    mseValid = MSE(model, X_valid, y_valid)\n",
    "    \n",
    "    print(\"lambda = \" + str(lamb) + \", training/validation error\" + str(mseTrain) + '/' + str(mseValid))\n",
    "    \n",
    "    if not bestModel or mseValid < bestMSE:\n",
    "        bestModel = model\n",
    "        bestMSE = mseValid"
   ]
  },
  {
   "cell_type": "code",
   "execution_count": 228,
   "metadata": {},
   "outputs": [
    {
     "name": "stdout",
     "output_type": "stream",
     "text": [
      "test error = [0.85992539]\n"
     ]
    }
   ],
   "source": [
    "mseTest = MSE(bestModel, X_test, y_test)\n",
    "print(\"test error = \" + str(mseTest))"
   ]
  },
  {
   "cell_type": "code",
   "execution_count": 229,
   "metadata": {},
   "outputs": [
    {
     "name": "stdout",
     "output_type": "stream",
     "text": [
      "R2 = [0.02974691]\n"
     ]
    }
   ],
   "source": [
    "FVU = mseTest / np.var(y_test)\n",
    "R2 = 1 - FVU\n",
    "print(\"R2 = \" + str(R2)) "
   ]
  },
  {
   "cell_type": "code",
   "execution_count": 230,
   "metadata": {},
   "outputs": [
    {
     "data": {
      "image/png": "[encoded data removed]",
      "text/plain": [
       "<Figure size 432x288 with 1 Axes>"
      ]
     },
     "metadata": {
      "needs_background": "light"
     },
     "output_type": "display_data"
    }
   ],
   "source": [
    "plt.figure()\n",
    "plt.plot(y_test)\n",
    "plt.plot(model.predict(X_test))\n",
    "plt.show()"
   ]
  },
  {
   "cell_type": "markdown",
   "metadata": {},
   "source": [
    "**Conclusion:** As we see, this problem can't be solve by a linear regression model because the features have an extreamly small value, so lets try to perform a classification in healthy and sick respiratory cycles"
   ]
  },
  {
   "cell_type": "markdown",
   "metadata": {},
   "source": [
    "# Classification"
   ]
  },
  {
   "cell_type": "code",
   "execution_count": 275,
   "metadata": {},
   "outputs": [
    {
     "data": {
      "text/html": [
       "<div>\n",
       "<style scoped>\n",
       "    .dataframe tbody tr th:only-of-type {\n",
       "        vertical-align: middle;\n",
       "    }\n",
       "\n",
       "    .dataframe tbody tr th {\n",
       "        vertical-align: top;\n",
       "    }\n",
       "\n",
       "    .dataframe thead th {\n",
       "        text-align: right;\n",
       "    }\n",
       "</style>\n",
       "<table border=\"1\" class=\"dataframe\">\n",
       "  <thead>\n",
       "    <tr style=\"text-align: right;\">\n",
       "      <th></th>\n",
       "      <th>patient_ID</th>\n",
       "      <th>Diagnosis</th>\n",
       "      <th>age</th>\n",
       "      <th>sex</th>\n",
       "      <th>IMC</th>\n",
       "      <th>weight</th>\n",
       "      <th>height</th>\n",
       "      <th>adq_format</th>\n",
       "      <th>start</th>\n",
       "      <th>end</th>\n",
       "      <th>crackles</th>\n",
       "      <th>wheezes</th>\n",
       "      <th>state</th>\n",
       "      <th>Var</th>\n",
       "      <th>Range</th>\n",
       "      <th>Coarse_Av</th>\n",
       "      <th>Fine_Av</th>\n",
       "      <th>Spectrum Av</th>\n",
       "    </tr>\n",
       "  </thead>\n",
       "  <tbody>\n",
       "    <tr>\n",
       "      <th>0</th>\n",
       "      <td>101</td>\n",
       "      <td>URTI</td>\n",
       "      <td>3.0</td>\n",
       "      <td>F</td>\n",
       "      <td>NaN</td>\n",
       "      <td>19.0</td>\n",
       "      <td>99.0</td>\n",
       "      <td>1b1_Al_sc_Meditron</td>\n",
       "      <td>0.036</td>\n",
       "      <td>0.579</td>\n",
       "      <td>0</td>\n",
       "      <td>0</td>\n",
       "      <td>False</td>\n",
       "      <td>0.000048</td>\n",
       "      <td>0.113594</td>\n",
       "      <td>0.000446</td>\n",
       "      <td>0.000599</td>\n",
       "      <td>2.537207e-08</td>\n",
       "    </tr>\n",
       "    <tr>\n",
       "      <th>1</th>\n",
       "      <td>101</td>\n",
       "      <td>URTI</td>\n",
       "      <td>3.0</td>\n",
       "      <td>F</td>\n",
       "      <td>NaN</td>\n",
       "      <td>19.0</td>\n",
       "      <td>99.0</td>\n",
       "      <td>1b1_Al_sc_Meditron</td>\n",
       "      <td>0.579</td>\n",
       "      <td>2.450</td>\n",
       "      <td>0</td>\n",
       "      <td>0</td>\n",
       "      <td>False</td>\n",
       "      <td>0.000066</td>\n",
       "      <td>0.159031</td>\n",
       "      <td>0.012435</td>\n",
       "      <td>-0.001276</td>\n",
       "      <td>3.532798e-08</td>\n",
       "    </tr>\n",
       "    <tr>\n",
       "      <th>2</th>\n",
       "      <td>101</td>\n",
       "      <td>URTI</td>\n",
       "      <td>3.0</td>\n",
       "      <td>F</td>\n",
       "      <td>NaN</td>\n",
       "      <td>19.0</td>\n",
       "      <td>99.0</td>\n",
       "      <td>1b1_Al_sc_Meditron</td>\n",
       "      <td>2.450</td>\n",
       "      <td>3.893</td>\n",
       "      <td>0</td>\n",
       "      <td>0</td>\n",
       "      <td>False</td>\n",
       "      <td>0.000044</td>\n",
       "      <td>0.115345</td>\n",
       "      <td>-0.101963</td>\n",
       "      <td>-0.000701</td>\n",
       "      <td>2.213387e-08</td>\n",
       "    </tr>\n",
       "    <tr>\n",
       "      <th>3</th>\n",
       "      <td>101</td>\n",
       "      <td>URTI</td>\n",
       "      <td>3.0</td>\n",
       "      <td>F</td>\n",
       "      <td>NaN</td>\n",
       "      <td>19.0</td>\n",
       "      <td>99.0</td>\n",
       "      <td>1b1_Al_sc_Meditron</td>\n",
       "      <td>3.893</td>\n",
       "      <td>5.793</td>\n",
       "      <td>0</td>\n",
       "      <td>0</td>\n",
       "      <td>False</td>\n",
       "      <td>0.000074</td>\n",
       "      <td>0.187316</td>\n",
       "      <td>-0.113660</td>\n",
       "      <td>-0.000223</td>\n",
       "      <td>3.485673e-08</td>\n",
       "    </tr>\n",
       "    <tr>\n",
       "      <th>4</th>\n",
       "      <td>101</td>\n",
       "      <td>URTI</td>\n",
       "      <td>3.0</td>\n",
       "      <td>F</td>\n",
       "      <td>NaN</td>\n",
       "      <td>19.0</td>\n",
       "      <td>99.0</td>\n",
       "      <td>1b1_Al_sc_Meditron</td>\n",
       "      <td>5.793</td>\n",
       "      <td>7.521</td>\n",
       "      <td>0</td>\n",
       "      <td>0</td>\n",
       "      <td>False</td>\n",
       "      <td>0.000036</td>\n",
       "      <td>0.117565</td>\n",
       "      <td>-0.017593</td>\n",
       "      <td>-0.001040</td>\n",
       "      <td>1.806783e-08</td>\n",
       "    </tr>\n",
       "    <tr>\n",
       "      <th>...</th>\n",
       "      <td>...</td>\n",
       "      <td>...</td>\n",
       "      <td>...</td>\n",
       "      <td>...</td>\n",
       "      <td>...</td>\n",
       "      <td>...</td>\n",
       "      <td>...</td>\n",
       "      <td>...</td>\n",
       "      <td>...</td>\n",
       "      <td>...</td>\n",
       "      <td>...</td>\n",
       "      <td>...</td>\n",
       "      <td>...</td>\n",
       "      <td>...</td>\n",
       "      <td>...</td>\n",
       "      <td>...</td>\n",
       "      <td>...</td>\n",
       "      <td>...</td>\n",
       "    </tr>\n",
       "    <tr>\n",
       "      <th>6893</th>\n",
       "      <td>226</td>\n",
       "      <td>Pneumonia</td>\n",
       "      <td>4.0</td>\n",
       "      <td>M</td>\n",
       "      <td>NaN</td>\n",
       "      <td>16.7</td>\n",
       "      <td>103.0</td>\n",
       "      <td>1b1_Pl_sc_LittC2SE</td>\n",
       "      <td>11.721</td>\n",
       "      <td>13.693</td>\n",
       "      <td>1</td>\n",
       "      <td>0</td>\n",
       "      <td>True</td>\n",
       "      <td>0.000015</td>\n",
       "      <td>0.056514</td>\n",
       "      <td>-0.005161</td>\n",
       "      <td>-0.005630</td>\n",
       "      <td>7.528343e-09</td>\n",
       "    </tr>\n",
       "    <tr>\n",
       "      <th>6894</th>\n",
       "      <td>226</td>\n",
       "      <td>Pneumonia</td>\n",
       "      <td>4.0</td>\n",
       "      <td>M</td>\n",
       "      <td>NaN</td>\n",
       "      <td>16.7</td>\n",
       "      <td>103.0</td>\n",
       "      <td>1b1_Pl_sc_LittC2SE</td>\n",
       "      <td>13.693</td>\n",
       "      <td>15.536</td>\n",
       "      <td>0</td>\n",
       "      <td>0</td>\n",
       "      <td>False</td>\n",
       "      <td>0.000026</td>\n",
       "      <td>0.107412</td>\n",
       "      <td>-0.018191</td>\n",
       "      <td>-0.000332</td>\n",
       "      <td>1.279829e-08</td>\n",
       "    </tr>\n",
       "    <tr>\n",
       "      <th>6895</th>\n",
       "      <td>226</td>\n",
       "      <td>Pneumonia</td>\n",
       "      <td>4.0</td>\n",
       "      <td>M</td>\n",
       "      <td>NaN</td>\n",
       "      <td>16.7</td>\n",
       "      <td>103.0</td>\n",
       "      <td>1b1_Pl_sc_LittC2SE</td>\n",
       "      <td>15.536</td>\n",
       "      <td>17.493</td>\n",
       "      <td>0</td>\n",
       "      <td>0</td>\n",
       "      <td>False</td>\n",
       "      <td>0.000017</td>\n",
       "      <td>0.089678</td>\n",
       "      <td>0.002857</td>\n",
       "      <td>0.005618</td>\n",
       "      <td>8.751189e-09</td>\n",
       "    </tr>\n",
       "    <tr>\n",
       "      <th>6896</th>\n",
       "      <td>226</td>\n",
       "      <td>Pneumonia</td>\n",
       "      <td>4.0</td>\n",
       "      <td>M</td>\n",
       "      <td>NaN</td>\n",
       "      <td>16.7</td>\n",
       "      <td>103.0</td>\n",
       "      <td>1b1_Pl_sc_LittC2SE</td>\n",
       "      <td>17.493</td>\n",
       "      <td>19.436</td>\n",
       "      <td>1</td>\n",
       "      <td>0</td>\n",
       "      <td>True</td>\n",
       "      <td>0.000018</td>\n",
       "      <td>0.059962</td>\n",
       "      <td>-0.004191</td>\n",
       "      <td>0.002940</td>\n",
       "      <td>8.975479e-09</td>\n",
       "    </tr>\n",
       "    <tr>\n",
       "      <th>6897</th>\n",
       "      <td>226</td>\n",
       "      <td>Pneumonia</td>\n",
       "      <td>4.0</td>\n",
       "      <td>M</td>\n",
       "      <td>NaN</td>\n",
       "      <td>16.7</td>\n",
       "      <td>103.0</td>\n",
       "      <td>1b1_Pl_sc_LittC2SE</td>\n",
       "      <td>19.436</td>\n",
       "      <td>19.979</td>\n",
       "      <td>0</td>\n",
       "      <td>0</td>\n",
       "      <td>False</td>\n",
       "      <td>0.000042</td>\n",
       "      <td>0.046713</td>\n",
       "      <td>0.006035</td>\n",
       "      <td>0.000096</td>\n",
       "      <td>2.033625e-08</td>\n",
       "    </tr>\n",
       "  </tbody>\n",
       "</table>\n",
       "<p>6898 rows × 18 columns</p>\n",
       "</div>"
      ],
      "text/plain": [
       "      patient_ID  Diagnosis  age sex  IMC  weight  height          adq_format  \\\n",
       "0            101       URTI  3.0   F  NaN    19.0    99.0  1b1_Al_sc_Meditron   \n",
       "1            101       URTI  3.0   F  NaN    19.0    99.0  1b1_Al_sc_Meditron   \n",
       "2            101       URTI  3.0   F  NaN    19.0    99.0  1b1_Al_sc_Meditron   \n",
       "3            101       URTI  3.0   F  NaN    19.0    99.0  1b1_Al_sc_Meditron   \n",
       "4            101       URTI  3.0   F  NaN    19.0    99.0  1b1_Al_sc_Meditron   \n",
       "...          ...        ...  ...  ..  ...     ...     ...                 ...   \n",
       "6893         226  Pneumonia  4.0   M  NaN    16.7   103.0  1b1_Pl_sc_LittC2SE   \n",
       "6894         226  Pneumonia  4.0   M  NaN    16.7   103.0  1b1_Pl_sc_LittC2SE   \n",
       "6895         226  Pneumonia  4.0   M  NaN    16.7   103.0  1b1_Pl_sc_LittC2SE   \n",
       "6896         226  Pneumonia  4.0   M  NaN    16.7   103.0  1b1_Pl_sc_LittC2SE   \n",
       "6897         226  Pneumonia  4.0   M  NaN    16.7   103.0  1b1_Pl_sc_LittC2SE   \n",
       "\n",
       "       start     end  crackles  wheezes  state       Var     Range  Coarse_Av  \\\n",
       "0      0.036   0.579         0        0  False  0.000048  0.113594   0.000446   \n",
       "1      0.579   2.450         0        0  False  0.000066  0.159031   0.012435   \n",
       "2      2.450   3.893         0        0  False  0.000044  0.115345  -0.101963   \n",
       "3      3.893   5.793         0        0  False  0.000074  0.187316  -0.113660   \n",
       "4      5.793   7.521         0        0  False  0.000036  0.117565  -0.017593   \n",
       "...      ...     ...       ...      ...    ...       ...       ...        ...   \n",
       "6893  11.721  13.693         1        0   True  0.000015  0.056514  -0.005161   \n",
       "6894  13.693  15.536         0        0  False  0.000026  0.107412  -0.018191   \n",
       "6895  15.536  17.493         0        0  False  0.000017  0.089678   0.002857   \n",
       "6896  17.493  19.436         1        0   True  0.000018  0.059962  -0.004191   \n",
       "6897  19.436  19.979         0        0  False  0.000042  0.046713   0.006035   \n",
       "\n",
       "       Fine_Av   Spectrum Av  \n",
       "0     0.000599  2.537207e-08  \n",
       "1    -0.001276  3.532798e-08  \n",
       "2    -0.000701  2.213387e-08  \n",
       "3    -0.000223  3.485673e-08  \n",
       "4    -0.001040  1.806783e-08  \n",
       "...        ...           ...  \n",
       "6893 -0.005630  7.528343e-09  \n",
       "6894 -0.000332  1.279829e-08  \n",
       "6895  0.005618  8.751189e-09  \n",
       "6896  0.002940  8.975479e-09  \n",
       "6897  0.000096  2.033625e-08  \n",
       "\n",
       "[6898 rows x 18 columns]"
      ]
     },
     "execution_count": 275,
     "metadata": {},
     "output_type": "execute_result"
    }
   ],
   "source": [
    "df.loc[df['state'] != 0, 'state'] = True\n",
    "df.loc[df['state'] == 0, 'state'] = False\n",
    "df"
   ]
  },
  {
   "cell_type": "code",
   "execution_count": 294,
   "metadata": {},
   "outputs": [
    {
     "data": {
      "text/plain": [
       "array([False, False, False, False, False, False, False, False, False,\n",
       "       False])"
      ]
     },
     "execution_count": 294,
     "metadata": {},
     "output_type": "execute_result"
    }
   ],
   "source": [
    "y_class = np.ravel(df['state'].values.reshape(-1,1).tolist())\n",
    "y_class[:10]"
   ]
  },
  {
   "cell_type": "code",
   "execution_count": 295,
   "metadata": {},
   "outputs": [
    {
     "data": {
      "text/plain": [
       "LogisticRegression(C=1.0, class_weight=None, dual=False, fit_intercept=True,\n",
       "                   intercept_scaling=1, l1_ratio=None, max_iter=100,\n",
       "                   multi_class='ovr', n_jobs=1, penalty='l2', random_state=None,\n",
       "                   solver='liblinear', tol=0.0001, verbose=0, warm_start=False)"
      ]
     },
     "execution_count": 295,
     "metadata": {},
     "output_type": "execute_result"
    }
   ],
   "source": [
    "modelLin = linear_model.LogisticRegression(max_iter=100, multi_class='ovr',n_jobs=1,solver='liblinear') #Basic Linear Model\n",
    "modelLin.fit(X, y_class)"
   ]
  },
  {
   "cell_type": "code",
   "execution_count": 296,
   "metadata": {},
   "outputs": [
    {
     "data": {
      "text/plain": [
       "array([ True,  True,  True, ...,  True, False,  True])"
      ]
     },
     "execution_count": 296,
     "metadata": {},
     "output_type": "execute_result"
    }
   ],
   "source": [
    "predictions = modelLin.predict(X)\n",
    "correct = predictions == y_class\n",
    "correct"
   ]
  },
  {
   "attachments": {
    "note_1.PNG": {
     "image/png": "[encoded data removed]"
    }
   },
   "cell_type": "markdown",
   "metadata": {},
   "source": [
    "![note_1.PNG](attachment:note_1.PNG)"
   ]
  },
  {
   "cell_type": "code",
   "execution_count": 298,
   "metadata": {},
   "outputs": [],
   "source": [
    "# p: Prediction                                                                                                            \n",
    "# l: Label\n",
    "TP = sum([(p and l) for (p,l) in zip(predictions, y_class)])\n",
    "FP = sum([(p and not l) for (p,l) in zip(predictions, y_class)])\n",
    "TN = sum([(not p and not l) for (p,l) in zip(predictions, y_class)])\n",
    "FN = sum([(not p and l) for (p,l) in zip(predictions, y_class)])"
   ]
  },
  {
   "cell_type": "code",
   "execution_count": 299,
   "metadata": {},
   "outputs": [
    {
     "name": "stdout",
     "output_type": "stream",
     "text": [
      "TP = 218\n",
      "FP = 180\n",
      "TN = 3462\n",
      "FN = 3038\n"
     ]
    }
   ],
   "source": [
    "print(\"TP = \" + str(TP))\n",
    "print(\"FP = \" + str(FP))\n",
    "print(\"TN = \" + str(TN))\n",
    "print(\"FN = \" + str(FN))"
   ]
  },
  {
   "cell_type": "code",
   "execution_count": 300,
   "metadata": {},
   "outputs": [
    {
     "data": {
      "text/plain": [
       "0.5334879675268194"
      ]
     },
     "execution_count": 300,
     "metadata": {},
     "output_type": "execute_result"
    }
   ],
   "source": [
    "TF_Accuracy = (TP + TN) / (TP + TN + FP + FN)\n",
    "TF_Accuracy"
   ]
  },
  {
   "cell_type": "code",
   "execution_count": 301,
   "metadata": {},
   "outputs": [
    {
     "name": "stdout",
     "output_type": "stream",
     "text": [
      "0.06695331695331695 \n",
      " 0.9505766062602965\n"
     ]
    }
   ],
   "source": [
    "TPR = TP / (TP + FN) # Number of data that were positive, and that were labeled\n",
    "TNR = TN / (TN + FP) # Number of data that were negative, and that were labeled\n",
    "print(TPR, '\\n',TNR)"
   ]
  },
  {
   "cell_type": "code",
   "execution_count": 302,
   "metadata": {},
   "outputs": [
    {
     "name": "stdout",
     "output_type": "stream",
     "text": [
      "Balanced error rate = 0.49123503839319327\n"
     ]
    }
   ],
   "source": [
    "BER = 1 - 1/2 * (TPR + TNR)\n",
    "print(\"Balanced error rate = \" + str(BER))"
   ]
  },
  {
   "cell_type": "code",
   "execution_count": 303,
   "metadata": {},
   "outputs": [
    {
     "data": {
      "text/plain": [
       "(0.5477386934673367, 0.06695331695331695)"
      ]
     },
     "execution_count": 303,
     "metadata": {},
     "output_type": "execute_result"
    }
   ],
   "source": [
    "precision = TP / (TP + FP) \n",
    "recall = TP / (TP + FN) \n",
    "\n",
    "precision, recall"
   ]
  },
  {
   "cell_type": "code",
   "execution_count": 304,
   "metadata": {},
   "outputs": [
    {
     "data": {
      "text/plain": [
       "0.11932129173508484"
      ]
     },
     "execution_count": 304,
     "metadata": {},
     "output_type": "execute_result"
    }
   ],
   "source": [
    "F1 = 2 * (precision*recall) / (precision + recall)\n",
    "F1"
   ]
  },
  {
   "cell_type": "markdown",
   "metadata": {},
   "source": [
    "# And in case of the True labels (sick respiratory cycles) are more important:"
   ]
  },
  {
   "attachments": {
    "note_1.PNG": {
     "image/png": "[encoded data removed]"
    }
   },
   "cell_type": "markdown",
   "metadata": {},
   "source": [
    "![note_1.PNG](attachment:note_1.PNG)"
   ]
  },
  {
   "cell_type": "code",
   "execution_count": 305,
   "metadata": {},
   "outputs": [
    {
     "data": {
      "text/plain": [
       "array([ 0.10262646,  0.07467153,  0.0549044 , ...,  0.17507139,\n",
       "        0.06829087, -0.0267003 ])"
      ]
     },
     "execution_count": 305,
     "metadata": {},
     "output_type": "execute_result"
    }
   ],
   "source": [
    "confidences = model.decision_function(X)\n",
    "confidences"
   ]
  },
  {
   "cell_type": "markdown",
   "metadata": {},
   "source": [
    "Then we sort them along de with the labels"
   ]
  },
  {
   "cell_type": "code",
   "execution_count": 316,
   "metadata": {},
   "outputs": [
    {
     "data": {
      "text/plain": [
       "[(0.10262646118669831, False),\n",
       " (0.07467152887165264, False),\n",
       " (0.05490440262215493, False),\n",
       " (0.042249699355202536, False),\n",
       " (0.37435466720459515, False)]"
      ]
     },
     "execution_count": 316,
     "metadata": {},
     "output_type": "execute_result"
    }
   ],
   "source": [
    "confidencesAndLabels = list(zip(confidences, y_class))\n",
    "confidencesAndLabels[:5]"
   ]
  },
  {
   "cell_type": "code",
   "execution_count": 307,
   "metadata": {},
   "outputs": [],
   "source": [
    "confidencesAndLabels.sort()\n",
    "confidencesAndLabels.reverse()"
   ]
  },
  {
   "cell_type": "markdown",
   "metadata": {},
   "source": [
    "At this point we can discard the confidences"
   ]
  },
  {
   "cell_type": "code",
   "execution_count": 308,
   "metadata": {},
   "outputs": [
    {
     "data": {
      "text/plain": [
       "[True, True, False, True, True]"
      ]
     },
     "execution_count": 308,
     "metadata": {},
     "output_type": "execute_result"
    }
   ],
   "source": [
    "labelsRankedByConfidence = [z[1] for z in confidencesAndLabels]\n",
    "labelsRankedByConfidence[:5]"
   ]
  },
  {
   "cell_type": "code",
   "execution_count": 309,
   "metadata": {},
   "outputs": [],
   "source": [
    "def precisionAtK(K, y_sorted):\n",
    "    return sum(y_sorted[:K]) / K\n",
    "\n",
    "def recallAtK(K, y_sorted):\n",
    "    return sum(y_sorted[:K]) / sum(y_sorted)"
   ]
  },
  {
   "cell_type": "code",
   "execution_count": 310,
   "metadata": {},
   "outputs": [
    {
     "data": {
      "text/plain": [
       "0.6"
      ]
     },
     "execution_count": 310,
     "metadata": {},
     "output_type": "execute_result"
    }
   ],
   "source": [
    "precisionAtK(50, labelsRankedByConfidence)"
   ]
  },
  {
   "cell_type": "code",
   "execution_count": 311,
   "metadata": {},
   "outputs": [
    {
     "data": {
      "text/plain": [
       "0.504"
      ]
     },
     "execution_count": 311,
     "metadata": {},
     "output_type": "execute_result"
    }
   ],
   "source": [
    "precisionAtK(1000, labelsRankedByConfidence)"
   ]
  },
  {
   "cell_type": "code",
   "execution_count": 312,
   "metadata": {},
   "outputs": [
    {
     "data": {
      "text/plain": [
       "0.3256"
      ]
     },
     "execution_count": 312,
     "metadata": {},
     "output_type": "execute_result"
    }
   ],
   "source": [
    "precisionAtK(10000, labelsRankedByConfidence)"
   ]
  },
  {
   "cell_type": "code",
   "execution_count": 313,
   "metadata": {},
   "outputs": [
    {
     "data": {
      "text/plain": [
       "0.009213759213759214"
      ]
     },
     "execution_count": 313,
     "metadata": {},
     "output_type": "execute_result"
    }
   ],
   "source": [
    "recallAtK(50, labelsRankedByConfidence)"
   ]
  },
  {
   "cell_type": "code",
   "execution_count": 314,
   "metadata": {},
   "outputs": [
    {
     "data": {
      "text/plain": [
       "0.1547911547911548"
      ]
     },
     "execution_count": 314,
     "metadata": {},
     "output_type": "execute_result"
    }
   ],
   "source": [
    "recallAtK(1000, labelsRankedByConfidence)"
   ]
  },
  {
   "cell_type": "code",
   "execution_count": 315,
   "metadata": {},
   "outputs": [
    {
     "data": {
      "text/plain": [
       "1.0"
      ]
     },
     "execution_count": 315,
     "metadata": {},
     "output_type": "execute_result"
    }
   ],
   "source": [
    "recallAtK(10000, labelsRankedByConfidence)"
   ]
  },
  {
   "cell_type": "markdown",
   "metadata": {},
   "source": [
    "**Conclusion:** The performed model it more or less good, in the aproximately 50% of cases, it can predict the state of the respiratory cycle"
   ]
  },
  {
   "cell_type": "code",
   "execution_count": null,
   "metadata": {},
   "outputs": [],
   "source": []
  }
 ],
 "metadata": {
  "kernelspec": {
   "display_name": "Python 3",
   "language": "python",
   "name": "python3"
  },
  "language_info": {
   "codemirror_mode": {
    "name": "ipython",
    "version": 3
   },
   "file_extension": ".py",
   "mimetype": "text/x-python",
   "name": "python",
   "nbconvert_exporter": "python",
   "pygments_lexer": "ipython3",
   "version": "3.7.6"
  }
 },
 "nbformat": 4,
 "nbformat_minor": 4
}
